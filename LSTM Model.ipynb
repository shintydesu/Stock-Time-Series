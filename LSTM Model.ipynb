{
 "cells": [
  {
   "cell_type": "code",
   "execution_count": 26,
   "id": "2479d31c-0fc3-489c-a147-02eee89e887d",
   "metadata": {},
   "outputs": [],
   "source": [
    "import pandas as pd\n",
    "import numpy as np\n",
    "import matplotlib.pyplot as plt\n",
    "import seaborn as sns\n",
    "import warnings\n",
    "warnings.simplefilter(action = 'ignore')"
   ]
  },
  {
   "cell_type": "code",
   "execution_count": 2,
   "id": "2d0b253e-711e-466c-a0dc-3c9607a3f3d0",
   "metadata": {},
   "outputs": [],
   "source": [
    "amzn = pd.read_csv(\"dataset/AMZN_2006-01-01_to_2018-01-01.csv\")\n",
    "googl = pd.read_csv(\"dataset/GOOGL_2006-01-01_to_2018-01-01.csv\")\n",
    "ibm = pd.read_csv(\"dataset/IBM_2006-01-01_to_2018-01-01.csv\")\n",
    "msft = pd.read_csv(\"dataset/MSFT_2006-01-01_to_2018-01-01.csv\")\n",
    "aapl = pd.read_csv(\"dataset/AAPL_2006-01-01_to_2018-01-01.csv\")\n",
    "intc = pd.read_csv(\"dataset/INTC_2006-01-01_to_2018-01-01.csv\")\n",
    "vz = pd.read_csv(\"dataset/VZ_2006-01-01_to_2018-01-01.csv\")\n",
    "amd = pd.read_csv(\"dataset/AMD.csv\")\n",
    "nvda = pd.read_csv(\"dataset/nvidia_all_time_daily_stock_prices.csv\")\n",
    "aaba = pd.read_csv(\"dataset/AABA_2006-01-01_to_2018-01-01.csv\")"
   ]
  },
  {
   "cell_type": "code",
   "execution_count": 3,
   "id": "414f5775-cc60-44ef-92f8-058bada686c9",
   "metadata": {},
   "outputs": [],
   "source": [
    "amd['Date'] = pd.to_datetime(amd['Date'])\n",
    "nvda['Date'] = pd.to_datetime(nvda['Date'])\n",
    "start_date = pd.to_datetime('2006-01-03')\n",
    "end_date = pd.to_datetime('2017-12-29')\n",
    "amd_crop = amd[(amd['Date'] >= start_date) & (amd['Date'] <= end_date)]\n",
    "amd_crop = amd_crop.reset_index(drop=True)\n",
    "amd_crop['Close'] = amd_crop['Close'].round(2)\n",
    "nvda_crop = nvda[(nvda['Date'] >= start_date) & (nvda['Date'] <= end_date)]\n",
    "nvda_crop = nvda_crop.reset_index(drop = True)\n",
    "nvda_crop['Close'] = nvda_crop['Close'].round(2)"
   ]
  },
  {
   "cell_type": "code",
   "execution_count": 76,
   "id": "38ef3aff-225e-4abf-85bb-81f5d5fcaf16",
   "metadata": {},
   "outputs": [
    {
     "data": {
      "text/plain": [
       "(3019, 10)"
      ]
     },
     "execution_count": 76,
     "metadata": {},
     "output_type": "execute_result"
    }
   ],
   "source": [
    "data = pd.concat([amzn[['Date','Close']], googl[\"Close\"], msft[\"Close\"], aapl[\"Close\"], intc['Close'], \n",
    "                  nvda_crop['Close'], ibm[\"Close\"], vz['Close'], aaba['Close'], amd_crop['Close']], axis = 1)\n",
    "data.columns = ['Date', 'amzn', 'googl', 'msft', 'aapl', 'intc','nvda', 'ibm', 'vz', 'aaba', 'amd']\n",
    "data = data.drop(data.index[-1])\n",
    "data['Date'] = pd.to_datetime(data['Date'])\n",
    "cols = list(data)[1:11]\n",
    "train_date = data['Date']\n",
    "train_data = data[cols].astype(float)\n",
    "np.shape(train_data)"
   ]
  },
  {
   "cell_type": "code",
   "execution_count": 77,
   "id": "66a51ba1-8aad-4fb5-bfed-0bd2306e138d",
   "metadata": {},
   "outputs": [
    {
     "data": {
      "text/plain": [
       "(3019, 10)"
      ]
     },
     "execution_count": 77,
     "metadata": {},
     "output_type": "execute_result"
    }
   ],
   "source": [
    "from sklearn.preprocessing import StandardScaler\n",
    "\n",
    "sc = StandardScaler()\n",
    "sc = sc.fit(train_data)\n",
    "scaled_train_data = sc.transform(train_data)\n",
    "np.shape(scaled_train_data)"
   ]
  },
  {
   "cell_type": "code",
   "execution_count": 106,
   "id": "8e751462-3c26-4b83-8b5d-28234bb2e7b9",
   "metadata": {},
   "outputs": [],
   "source": [
    "x_train = []\n",
    "y_train = []\n",
    "\n",
    "n_future = 1\n",
    "n_past = 30\n",
    "\n",
    "for i in range(n_past, len(scaled_train_data) - n_future + 1):\n",
    "    x_train.append(scaled_train_data[i - n_past:i, 0: train_data.shape[1]])\n",
    "    y_train.append(scaled_train_data[i :i + n_future, 0 : train_data.shape[1]])\n",
    "\n",
    "x_train, y_train = np.array(x_train), np.array(y_train)"
   ]
  },
  {
   "cell_type": "code",
   "execution_count": 107,
   "id": "822cc8b1-b646-4836-ba78-a0125d51e525",
   "metadata": {},
   "outputs": [
    {
     "data": {
      "text/plain": [
       "array([[-0.92920627, -1.08624442, -0.65568105, -1.23004792, -0.60317184,\n",
       "        -0.41593281, -1.72571852, -0.90881929,  0.34756226,  4.39697519]])"
      ]
     },
     "execution_count": 107,
     "metadata": {},
     "output_type": "execute_result"
    }
   ],
   "source": [
    "y_train[0]"
   ]
  },
  {
   "cell_type": "code",
   "execution_count": 108,
   "id": "6e05a079-ec5d-4a46-acd8-23a33870299d",
   "metadata": {},
   "outputs": [],
   "source": [
    "from keras.callbacks import EarlyStopping, ReduceLROnPlateau, ModelCheckpoint, TensorBoard\n",
    "from keras.models import Sequential\n",
    "from keras.layers import Dense, LSTM, Dropout\n",
    "from keras.optimizers import Adam"
   ]
  },
  {
   "cell_type": "code",
   "execution_count": 109,
   "id": "af705464-e40f-4cb8-b98d-ef13d20e1a98",
   "metadata": {},
   "outputs": [
    {
     "name": "stdout",
     "output_type": "stream",
     "text": [
      "Model: \"sequential_2\"\n",
      "_________________________________________________________________\n",
      " Layer (type)                Output Shape              Param #   \n",
      "=================================================================\n",
      " lstm_4 (LSTM)               (None, 30, 64)            19200     \n",
      "                                                                 \n",
      " lstm_5 (LSTM)               (None, 32)                12416     \n",
      "                                                                 \n",
      " dropout_2 (Dropout)         (None, 32)                0         \n",
      "                                                                 \n",
      " dense_2 (Dense)             (None, 1)                 33        \n",
      "                                                                 \n",
      "=================================================================\n",
      "Total params: 31649 (123.63 KB)\n",
      "Trainable params: 31649 (123.63 KB)\n",
      "Non-trainable params: 0 (0.00 Byte)\n",
      "_________________________________________________________________\n"
     ]
    }
   ],
   "source": [
    "model = Sequential()\n",
    "model.add(LSTM(64, activation = 'relu', input_shape = (x_train.shape[1], x_train.shape[2]), return_sequences = True))\n",
    "model.add(LSTM(32, activation = 'relu', return_sequences = False))\n",
    "model.add(Dropout(0.2))\n",
    "model.add(Dense(y_train.shape[1]))\n",
    "model.compile(optimizer = 'adam', loss = 'mse')\n",
    "model.summary()"
   ]
  },
  {
   "cell_type": "code",
   "execution_count": 110,
   "id": "87706d1e-6a05-4f16-a0e3-9b679cbcfd2f",
   "metadata": {},
   "outputs": [
    {
     "name": "stdout",
     "output_type": "stream",
     "text": [
      "Epoch 1/10\n",
      "169/169 [==============================] - 5s 14ms/step - loss: 0.6556 - val_loss: 3.8258\n",
      "Epoch 2/10\n",
      "169/169 [==============================] - 2s 12ms/step - loss: 0.6532 - val_loss: 3.6993\n",
      "Epoch 3/10\n",
      "169/169 [==============================] - 2s 12ms/step - loss: 0.6520 - val_loss: 3.5052\n",
      "Epoch 4/10\n",
      "169/169 [==============================] - 2s 12ms/step - loss: 0.6529 - val_loss: 3.8467\n",
      "Epoch 5/10\n",
      "169/169 [==============================] - 2s 12ms/step - loss: 0.6524 - val_loss: 3.5541\n",
      "Epoch 6/10\n",
      "169/169 [==============================] - 2s 12ms/step - loss: 0.6524 - val_loss: 4.1400\n",
      "Epoch 7/10\n",
      "169/169 [==============================] - 2s 12ms/step - loss: 0.6515 - val_loss: 3.6992\n",
      "Epoch 8/10\n",
      "169/169 [==============================] - 2s 13ms/step - loss: 0.6523 - val_loss: 4.1939\n",
      "Epoch 9/10\n",
      "169/169 [==============================] - 2s 12ms/step - loss: 0.6523 - val_loss: 3.7315\n",
      "Epoch 10/10\n",
      "169/169 [==============================] - 2s 12ms/step - loss: 0.6523 - val_loss: 3.9072\n"
     ]
    }
   ],
   "source": [
    "history = model.fit(x_train, y_train, epochs = 10, batch_size = 16, validation_split = 0.1, verbose = 1)"
   ]
  },
  {
   "cell_type": "code",
   "execution_count": null,
   "id": "73e5646a-0b1d-4723-80e6-134ab487cde5",
   "metadata": {},
   "outputs": [],
   "source": []
  }
 ],
 "metadata": {
  "kernelspec": {
   "display_name": "Python 3 (ipykernel)",
   "language": "python",
   "name": "python3"
  },
  "language_info": {
   "codemirror_mode": {
    "name": "ipython",
    "version": 3
   },
   "file_extension": ".py",
   "mimetype": "text/x-python",
   "name": "python",
   "nbconvert_exporter": "python",
   "pygments_lexer": "ipython3",
   "version": "3.11.5"
  }
 },
 "nbformat": 4,
 "nbformat_minor": 5
}
