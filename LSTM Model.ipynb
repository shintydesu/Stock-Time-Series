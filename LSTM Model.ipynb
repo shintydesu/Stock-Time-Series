{
 "cells": [
  {
   "cell_type": "code",
   "execution_count": 3,
   "id": "2479d31c-0fc3-489c-a147-02eee89e887d",
   "metadata": {},
   "outputs": [],
   "source": [
    "import pandas as pd\n",
    "import numpy as np\n",
    "import matplotlib.pyplot as plt\n",
    "import seaborn as sns\n",
    "import warnings\n",
    "warnings.simplefilter(action = 'ignore')"
   ]
  },
  {
   "cell_type": "code",
   "execution_count": 4,
   "id": "2d0b253e-711e-466c-a0dc-3c9607a3f3d0",
   "metadata": {},
   "outputs": [],
   "source": [
    "amzn = pd.read_csv(\"dataset/AMZN_2006-01-01_to_2018-01-01.csv\")\n",
    "googl = pd.read_csv(\"dataset/GOOGL_2006-01-01_to_2018-01-01.csv\")\n",
    "ibm = pd.read_csv(\"dataset/IBM_2006-01-01_to_2018-01-01.csv\")\n",
    "msft = pd.read_csv(\"dataset/MSFT_2006-01-01_to_2018-01-01.csv\")\n",
    "aapl = pd.read_csv(\"dataset/AAPL_2006-01-01_to_2018-01-01.csv\")\n",
    "intc = pd.read_csv(\"dataset/INTC_2006-01-01_to_2018-01-01.csv\")\n",
    "vz = pd.read_csv(\"dataset/VZ_2006-01-01_to_2018-01-01.csv\")\n",
    "amd = pd.read_csv(\"dataset/AMD.csv\")\n",
    "nvda = pd.read_csv(\"dataset/nvidia_all_time_daily_stock_prices.csv\")\n",
    "aaba = pd.read_csv(\"dataset/AABA_2006-01-01_to_2018-01-01.csv\")"
   ]
  },
  {
   "cell_type": "code",
   "execution_count": 5,
   "id": "414f5775-cc60-44ef-92f8-058bada686c9",
   "metadata": {},
   "outputs": [],
   "source": [
    "amd['Date'] = pd.to_datetime(amd['Date'])\n",
    "nvda['Date'] = pd.to_datetime(nvda['Date'])\n",
    "start_date = pd.to_datetime('2006-01-03')\n",
    "end_date = pd.to_datetime('2017-12-29')\n",
    "amd_crop = amd[(amd['Date'] >= start_date) & (amd['Date'] <= end_date)]\n",
    "amd_crop = amd_crop.reset_index(drop=True)\n",
    "amd_crop['Close'] = amd_crop['Close'].round(2)\n",
    "nvda_crop = nvda[(nvda['Date'] >= start_date) & (nvda['Date'] <= end_date)]\n",
    "nvda_crop = nvda_crop.reset_index(drop = True)\n",
    "nvda_crop['Close'] = nvda_crop['Close'].round(2)"
   ]
  },
  {
   "cell_type": "code",
   "execution_count": 45,
   "id": "38ef3aff-225e-4abf-85bb-81f5d5fcaf16",
   "metadata": {},
   "outputs": [
    {
     "data": {
      "text/html": [
       "<div>\n",
       "<style scoped>\n",
       "    .dataframe tbody tr th:only-of-type {\n",
       "        vertical-align: middle;\n",
       "    }\n",
       "\n",
       "    .dataframe tbody tr th {\n",
       "        vertical-align: top;\n",
       "    }\n",
       "\n",
       "    .dataframe thead th {\n",
       "        text-align: right;\n",
       "    }\n",
       "</style>\n",
       "<table border=\"1\" class=\"dataframe\">\n",
       "  <thead>\n",
       "    <tr style=\"text-align: right;\">\n",
       "      <th></th>\n",
       "      <th>Date</th>\n",
       "      <th>amzn</th>\n",
       "      <th>googl</th>\n",
       "      <th>msft</th>\n",
       "      <th>aapl</th>\n",
       "      <th>intc</th>\n",
       "      <th>nvda</th>\n",
       "      <th>ibm</th>\n",
       "      <th>vz</th>\n",
       "      <th>aaba</th>\n",
       "      <th>amd</th>\n",
       "    </tr>\n",
       "  </thead>\n",
       "  <tbody>\n",
       "    <tr>\n",
       "      <th>2919</th>\n",
       "      <td>2017-08-09</td>\n",
       "      <td>982.01</td>\n",
       "      <td>940.08</td>\n",
       "      <td>72.47</td>\n",
       "      <td>161.06</td>\n",
       "      <td>36.59</td>\n",
       "      <td>42.58</td>\n",
       "      <td>142.11</td>\n",
       "      <td>48.60</td>\n",
       "      <td>59.77</td>\n",
       "      <td>13.11</td>\n",
       "    </tr>\n",
       "    <tr>\n",
       "      <th>2920</th>\n",
       "      <td>2017-08-10</td>\n",
       "      <td>956.92</td>\n",
       "      <td>923.59</td>\n",
       "      <td>71.41</td>\n",
       "      <td>155.32</td>\n",
       "      <td>36.14</td>\n",
       "      <td>43.03</td>\n",
       "      <td>141.77</td>\n",
       "      <td>48.22</td>\n",
       "      <td>58.03</td>\n",
       "      <td>12.83</td>\n",
       "    </tr>\n",
       "    <tr>\n",
       "      <th>2921</th>\n",
       "      <td>2017-08-11</td>\n",
       "      <td>967.99</td>\n",
       "      <td>930.09</td>\n",
       "      <td>72.50</td>\n",
       "      <td>157.48</td>\n",
       "      <td>35.87</td>\n",
       "      <td>41.19</td>\n",
       "      <td>141.84</td>\n",
       "      <td>48.02</td>\n",
       "      <td>57.92</td>\n",
       "      <td>12.12</td>\n",
       "    </tr>\n",
       "    <tr>\n",
       "      <th>2922</th>\n",
       "      <td>2017-08-14</td>\n",
       "      <td>983.30</td>\n",
       "      <td>938.93</td>\n",
       "      <td>73.59</td>\n",
       "      <td>159.85</td>\n",
       "      <td>36.34</td>\n",
       "      <td>38.99</td>\n",
       "      <td>141.84</td>\n",
       "      <td>48.06</td>\n",
       "      <td>58.87</td>\n",
       "      <td>12.23</td>\n",
       "    </tr>\n",
       "    <tr>\n",
       "      <th>2923</th>\n",
       "      <td>2017-08-15</td>\n",
       "      <td>982.74</td>\n",
       "      <td>938.08</td>\n",
       "      <td>73.22</td>\n",
       "      <td>161.60</td>\n",
       "      <td>36.00</td>\n",
       "      <td>42.10</td>\n",
       "      <td>142.32</td>\n",
       "      <td>48.78</td>\n",
       "      <td>59.99</td>\n",
       "      <td>12.76</td>\n",
       "    </tr>\n",
       "  </tbody>\n",
       "</table>\n",
       "</div>"
      ],
      "text/plain": [
       "           Date    amzn   googl   msft    aapl   intc   nvda     ibm     vz  \\\n",
       "2919 2017-08-09  982.01  940.08  72.47  161.06  36.59  42.58  142.11  48.60   \n",
       "2920 2017-08-10  956.92  923.59  71.41  155.32  36.14  43.03  141.77  48.22   \n",
       "2921 2017-08-11  967.99  930.09  72.50  157.48  35.87  41.19  141.84  48.02   \n",
       "2922 2017-08-14  983.30  938.93  73.59  159.85  36.34  38.99  141.84  48.06   \n",
       "2923 2017-08-15  982.74  938.08  73.22  161.60  36.00  42.10  142.32  48.78   \n",
       "\n",
       "       aaba    amd  \n",
       "2919  59.77  13.11  \n",
       "2920  58.03  12.83  \n",
       "2921  57.92  12.12  \n",
       "2922  58.87  12.23  \n",
       "2923  59.99  12.76  "
      ]
     },
     "execution_count": 45,
     "metadata": {},
     "output_type": "execute_result"
    }
   ],
   "source": [
    "data = pd.concat([amzn[['Date','Close']], googl[\"Close\"], msft[\"Close\"], aapl[\"Close\"], intc['Close'], \n",
    "                  nvda_crop['Close'], ibm[\"Close\"], vz['Close'], aaba['Close'], amd_crop['Close']], axis = 1)\n",
    "data.columns = ['Date', 'amzn', 'googl', 'msft', 'aapl', 'intc','nvda', 'ibm', 'vz', 'aaba', 'amd']\n",
    "data = data.drop(data.index[-1])\n",
    "data['Date'] = pd.to_datetime(data['Date'])\n",
    "cols = list(data)[1:11]\n",
    "\n",
    "train_data = data[:-100]\n",
    "test_data = data[-100:]\n",
    "\n",
    "test_data.head(5)"
   ]
  },
  {
   "cell_type": "code",
   "execution_count": 46,
   "id": "30b580fd-6381-48a2-9b63-8b3455d5159a",
   "metadata": {},
   "outputs": [
    {
     "name": "stdout",
     "output_type": "stream",
     "text": [
      "<class 'pandas.core.frame.DataFrame'>\n",
      "RangeIndex: 2919 entries, 0 to 2918\n",
      "Data columns (total 10 columns):\n",
      " #   Column  Non-Null Count  Dtype  \n",
      "---  ------  --------------  -----  \n",
      " 0   amzn    2919 non-null   float64\n",
      " 1   googl   2919 non-null   float64\n",
      " 2   msft    2919 non-null   float64\n",
      " 3   aapl    2919 non-null   float64\n",
      " 4   intc    2919 non-null   float64\n",
      " 5   nvda    2919 non-null   float64\n",
      " 6   ibm     2919 non-null   float64\n",
      " 7   vz      2919 non-null   float64\n",
      " 8   aaba    2919 non-null   float64\n",
      " 9   amd     2919 non-null   float64\n",
      "dtypes: float64(10)\n",
      "memory usage: 228.2 KB\n",
      "<class 'pandas.core.frame.DataFrame'>\n",
      "RangeIndex: 100 entries, 2919 to 3018\n",
      "Data columns (total 10 columns):\n",
      " #   Column  Non-Null Count  Dtype  \n",
      "---  ------  --------------  -----  \n",
      " 0   amzn    100 non-null    float64\n",
      " 1   googl   100 non-null    float64\n",
      " 2   msft    100 non-null    float64\n",
      " 3   aapl    100 non-null    float64\n",
      " 4   intc    100 non-null    float64\n",
      " 5   nvda    100 non-null    float64\n",
      " 6   ibm     100 non-null    float64\n",
      " 7   vz      100 non-null    float64\n",
      " 8   aaba    100 non-null    float64\n",
      " 9   amd     100 non-null    float64\n",
      "dtypes: float64(10)\n",
      "memory usage: 7.9 KB\n"
     ]
    }
   ],
   "source": [
    "train_date = train_data['Date']\n",
    "test_date = test_data['Date']\n",
    "train_data = train_data[cols].astype(float)\n",
    "test_data = test_data[cols].astype(float)\n",
    "np.shape(train_data)\n",
    "\n",
    "train_data.info()\n",
    "test_data.info()"
   ]
  },
  {
   "cell_type": "code",
   "execution_count": 47,
   "id": "66a51ba1-8aad-4fb5-bfed-0bd2306e138d",
   "metadata": {},
   "outputs": [],
   "source": [
    "from sklearn.preprocessing import StandardScaler\n",
    "\n",
    "sc = StandardScaler()\n",
    "sc = sc.fit(train_data)\n",
    "scaled_train_data = sc.transform(train_data)"
   ]
  },
  {
   "cell_type": "code",
   "execution_count": 48,
   "id": "8e751462-3c26-4b83-8b5d-28234bb2e7b9",
   "metadata": {},
   "outputs": [],
   "source": [
    "x_train = []\n",
    "y_train = []\n",
    "\n",
    "n_future = 1\n",
    "n_past = 30\n",
    "\n",
    "for i in range(n_past, len(scaled_train_data) - n_future + 1):\n",
    "    x_train.append(scaled_train_data[i - n_past:i, 0: train_data.shape[1]])\n",
    "    y_train.append(scaled_train_data[i + n_future - 1 :i + n_future, 0 : train_data.shape[1]])\n",
    "\n",
    "x_train, y_train = np.array(x_train), np.array(y_train)"
   ]
  },
  {
   "cell_type": "code",
   "execution_count": 49,
   "id": "822cc8b1-b646-4836-ba78-a0125d51e525",
   "metadata": {},
   "outputs": [
    {
     "data": {
      "text/plain": [
       "10"
      ]
     },
     "execution_count": 49,
     "metadata": {},
     "output_type": "execute_result"
    }
   ],
   "source": [
    "y_train.shape[2]"
   ]
  },
  {
   "cell_type": "code",
   "execution_count": 50,
   "id": "6e05a079-ec5d-4a46-acd8-23a33870299d",
   "metadata": {},
   "outputs": [],
   "source": [
    "from keras.callbacks import EarlyStopping, ReduceLROnPlateau, ModelCheckpoint, TensorBoard\n",
    "from keras.models import Sequential\n",
    "from keras.layers import Dense, LSTM, Dropout\n",
    "from keras.optimizers import Adam"
   ]
  },
  {
   "cell_type": "code",
   "execution_count": 51,
   "id": "af705464-e40f-4cb8-b98d-ef13d20e1a98",
   "metadata": {},
   "outputs": [
    {
     "name": "stdout",
     "output_type": "stream",
     "text": [
      "Model: \"sequential_3\"\n",
      "_________________________________________________________________\n",
      " Layer (type)                Output Shape              Param #   \n",
      "=================================================================\n",
      " lstm_6 (LSTM)               (None, 30, 128)           71168     \n",
      "                                                                 \n",
      " lstm_7 (LSTM)               (None, 30, 128)           131584    \n",
      "                                                                 \n",
      " dropout_3 (Dropout)         (None, 30, 128)           0         \n",
      "                                                                 \n",
      " lstm_8 (LSTM)               (None, 64)                49408     \n",
      "                                                                 \n",
      " dense_3 (Dense)             (None, 10)                650       \n",
      "                                                                 \n",
      "=================================================================\n",
      "Total params: 252810 (987.54 KB)\n",
      "Trainable params: 252810 (987.54 KB)\n",
      "Non-trainable params: 0 (0.00 Byte)\n",
      "_________________________________________________________________\n"
     ]
    }
   ],
   "source": [
    "model = Sequential()\n",
    "model.add(LSTM(128, activation = 'relu', input_shape = (x_train.shape[1], x_train.shape[2]), return_sequences = True))\n",
    "model.add(LSTM(128, activation = 'relu', return_sequences = True))\n",
    "model.add(Dropout(0.3))\n",
    "model.add(LSTM(64, activation = 'relu', return_sequences = False))\n",
    "model.add(Dense(y_train.shape[2]))\n",
    "model.compile(optimizer = 'adam', metrics = ['accuracy'], loss = 'mse')\n",
    "'''\n",
    "model.add(LSTM(64, activation = 'relu', input_shape = (x_train.shape[1], x_train.shape[2]), return_sequences = True))\n",
    "model.add(LSTM(32, activation = 'relu', return_sequences = False))\n",
    "model.add(Dropout(0.2))\n",
    "model.add(Dense(y_train.shape[2]))\n",
    "model.compile(optimizer = 'adam', metrics = ['accuracy'], loss = 'mse')\n",
    "'''\n",
    "model.summary()"
   ]
  },
  {
   "cell_type": "code",
   "execution_count": 55,
   "id": "87706d1e-6a05-4f16-a0e3-9b679cbcfd2f",
   "metadata": {},
   "outputs": [
    {
     "name": "stdout",
     "output_type": "stream",
     "text": [
      "Epoch 1/10\n",
      "82/82 [==============================] - 3s 39ms/step - loss: 4.5946 - accuracy: 0.5823 - val_loss: 1.8970 - val_accuracy: 0.0000e+00\n",
      "Epoch 2/10\n",
      "82/82 [==============================] - 3s 39ms/step - loss: 0.3439 - accuracy: 0.5773 - val_loss: 1.6058 - val_accuracy: 0.0000e+00\n",
      "Epoch 3/10\n",
      "82/82 [==============================] - 4s 46ms/step - loss: 0.4608 - accuracy: 0.3446 - val_loss: 1.1205 - val_accuracy: 0.2907\n",
      "Epoch 4/10\n",
      "82/82 [==============================] - 4s 46ms/step - loss: 0.2975 - accuracy: 0.5669 - val_loss: 1.9066 - val_accuracy: 0.2907\n",
      "Epoch 5/10\n",
      "82/82 [==============================] - 4s 46ms/step - loss: 0.2587 - accuracy: 0.4719 - val_loss: 1.3830 - val_accuracy: 0.0000e+00\n",
      "Epoch 6/10\n",
      "82/82 [==============================] - 4s 46ms/step - loss: 0.1635 - accuracy: 0.6423 - val_loss: 1.2857 - val_accuracy: 0.0000e+00\n",
      "Epoch 7/10\n",
      "82/82 [==============================] - 4s 46ms/step - loss: 0.9336 - accuracy: 0.6369 - val_loss: 1.8990 - val_accuracy: 0.2457\n",
      "Epoch 8/10\n",
      "82/82 [==============================] - 4s 46ms/step - loss: 0.1623 - accuracy: 0.6481 - val_loss: 1.9552 - val_accuracy: 0.2318\n",
      "Epoch 9/10\n",
      "82/82 [==============================] - 4s 46ms/step - loss: 0.1274 - accuracy: 0.6362 - val_loss: 1.1905 - val_accuracy: 0.2907\n",
      "Epoch 10/10\n",
      "82/82 [==============================] - 4s 46ms/step - loss: 3.5159 - accuracy: 0.5827 - val_loss: 2.0225 - val_accuracy: 0.0000e+00\n"
     ]
    }
   ],
   "source": [
    "history = model.fit(x_train, y_train, epochs = 10, shuffle = False, validation_split = 0.1)"
   ]
  },
  {
   "cell_type": "code",
   "execution_count": null,
   "id": "73e5646a-0b1d-4723-80e6-134ab487cde5",
   "metadata": {},
   "outputs": [],
   "source": []
  }
 ],
 "metadata": {
  "kernelspec": {
   "display_name": "Python 3 (ipykernel)",
   "language": "python",
   "name": "python3"
  },
  "language_info": {
   "codemirror_mode": {
    "name": "ipython",
    "version": 3
   },
   "file_extension": ".py",
   "mimetype": "text/x-python",
   "name": "python",
   "nbconvert_exporter": "python",
   "pygments_lexer": "ipython3",
   "version": "3.11.5"
  }
 },
 "nbformat": 4,
 "nbformat_minor": 5
}
