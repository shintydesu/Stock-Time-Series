{
 "cells": [
  {
   "cell_type": "code",
   "execution_count": 1,
   "id": "2479d31c-0fc3-489c-a147-02eee89e887d",
   "metadata": {},
   "outputs": [],
   "source": [
    "import pandas as pd\n",
    "import numpy as np\n",
    "import matplotlib.pyplot as plt\n",
    "import seaborn as sns\n",
    "import warnings\n",
    "warnings.simplefilter(action = 'ignore')"
   ]
  },
  {
   "cell_type": "code",
   "execution_count": 2,
   "id": "2d0b253e-711e-466c-a0dc-3c9607a3f3d0",
   "metadata": {},
   "outputs": [],
   "source": [
    "amzn = pd.read_csv(\"dataset/AMZN_2006-01-01_to_2018-01-01.csv\")\n",
    "googl = pd.read_csv(\"dataset/GOOGL_2006-01-01_to_2018-01-01.csv\")\n",
    "ibm = pd.read_csv(\"dataset/IBM_2006-01-01_to_2018-01-01.csv\")\n",
    "msft = pd.read_csv(\"dataset/MSFT_2006-01-01_to_2018-01-01.csv\")\n",
    "aapl = pd.read_csv(\"dataset/AAPL_2006-01-01_to_2018-01-01.csv\")\n",
    "intc = pd.read_csv(\"dataset/INTC_2006-01-01_to_2018-01-01.csv\")\n",
    "vz = pd.read_csv(\"dataset/VZ_2006-01-01_to_2018-01-01.csv\")\n",
    "amd = pd.read_csv(\"dataset/AMD.csv\")\n",
    "nvda = pd.read_csv(\"dataset/nvidia_all_time_daily_stock_prices.csv\")\n",
    "aaba = pd.read_csv(\"dataset/AABA_2006-01-01_to_2018-01-01.csv\")"
   ]
  },
  {
   "cell_type": "code",
   "execution_count": 3,
   "id": "414f5775-cc60-44ef-92f8-058bada686c9",
   "metadata": {},
   "outputs": [],
   "source": [
    "amd['Date'] = pd.to_datetime(amd['Date'])\n",
    "nvda['Date'] = pd.to_datetime(nvda['Date'])\n",
    "start_date = pd.to_datetime('2006-01-03')\n",
    "end_date = pd.to_datetime('2017-12-29')\n",
    "amd_crop = amd[(amd['Date'] >= start_date) & (amd['Date'] <= end_date)]\n",
    "amd_crop = amd_crop.reset_index(drop=True)\n",
    "amd_crop['Close'] = amd_crop['Close'].round(2)\n",
    "nvda_crop = nvda[(nvda['Date'] >= start_date) & (nvda['Date'] <= end_date)]\n",
    "nvda_crop = nvda_crop.reset_index(drop = True)\n",
    "nvda_crop['Close'] = nvda_crop['Close'].round(2)"
   ]
  },
  {
   "cell_type": "code",
   "execution_count": 4,
   "id": "38ef3aff-225e-4abf-85bb-81f5d5fcaf16",
   "metadata": {},
   "outputs": [
    {
     "data": {
      "text/html": [
       "<div>\n",
       "<style scoped>\n",
       "    .dataframe tbody tr th:only-of-type {\n",
       "        vertical-align: middle;\n",
       "    }\n",
       "\n",
       "    .dataframe tbody tr th {\n",
       "        vertical-align: top;\n",
       "    }\n",
       "\n",
       "    .dataframe thead th {\n",
       "        text-align: right;\n",
       "    }\n",
       "</style>\n",
       "<table border=\"1\" class=\"dataframe\">\n",
       "  <thead>\n",
       "    <tr style=\"text-align: right;\">\n",
       "      <th></th>\n",
       "      <th>Date</th>\n",
       "      <th>amzn</th>\n",
       "      <th>googl</th>\n",
       "      <th>msft</th>\n",
       "      <th>aapl</th>\n",
       "      <th>intc</th>\n",
       "      <th>nvda</th>\n",
       "      <th>ibm</th>\n",
       "      <th>vz</th>\n",
       "      <th>aaba</th>\n",
       "      <th>amd</th>\n",
       "    </tr>\n",
       "  </thead>\n",
       "  <tbody>\n",
       "    <tr>\n",
       "      <th>2929</th>\n",
       "      <td>2017-08-23</td>\n",
       "      <td>958.00</td>\n",
       "      <td>942.58</td>\n",
       "      <td>72.72</td>\n",
       "      <td>159.98</td>\n",
       "      <td>34.66</td>\n",
       "      <td>40.64</td>\n",
       "      <td>141.01</td>\n",
       "      <td>48.35</td>\n",
       "      <td>65.82</td>\n",
       "      <td>12.17</td>\n",
       "    </tr>\n",
       "    <tr>\n",
       "      <th>2930</th>\n",
       "      <td>2017-08-24</td>\n",
       "      <td>952.45</td>\n",
       "      <td>936.89</td>\n",
       "      <td>72.69</td>\n",
       "      <td>159.27</td>\n",
       "      <td>34.71</td>\n",
       "      <td>41.45</td>\n",
       "      <td>142.14</td>\n",
       "      <td>48.28</td>\n",
       "      <td>65.50</td>\n",
       "      <td>12.48</td>\n",
       "    </tr>\n",
       "    <tr>\n",
       "      <th>2931</th>\n",
       "      <td>2017-08-25</td>\n",
       "      <td>945.26</td>\n",
       "      <td>930.50</td>\n",
       "      <td>72.82</td>\n",
       "      <td>159.86</td>\n",
       "      <td>34.67</td>\n",
       "      <td>41.30</td>\n",
       "      <td>142.94</td>\n",
       "      <td>48.31</td>\n",
       "      <td>64.51</td>\n",
       "      <td>12.50</td>\n",
       "    </tr>\n",
       "    <tr>\n",
       "      <th>2932</th>\n",
       "      <td>2017-08-28</td>\n",
       "      <td>946.02</td>\n",
       "      <td>928.13</td>\n",
       "      <td>72.83</td>\n",
       "      <td>161.47</td>\n",
       "      <td>34.65</td>\n",
       "      <td>40.95</td>\n",
       "      <td>143.74</td>\n",
       "      <td>48.68</td>\n",
       "      <td>63.53</td>\n",
       "      <td>12.43</td>\n",
       "    </tr>\n",
       "    <tr>\n",
       "      <th>2933</th>\n",
       "      <td>2017-08-29</td>\n",
       "      <td>954.06</td>\n",
       "      <td>935.75</td>\n",
       "      <td>73.05</td>\n",
       "      <td>162.91</td>\n",
       "      <td>34.73</td>\n",
       "      <td>41.24</td>\n",
       "      <td>142.51</td>\n",
       "      <td>48.61</td>\n",
       "      <td>63.17</td>\n",
       "      <td>12.23</td>\n",
       "    </tr>\n",
       "  </tbody>\n",
       "</table>\n",
       "</div>"
      ],
      "text/plain": [
       "           Date    amzn   googl   msft    aapl   intc   nvda     ibm     vz  \\\n",
       "2929 2017-08-23  958.00  942.58  72.72  159.98  34.66  40.64  141.01  48.35   \n",
       "2930 2017-08-24  952.45  936.89  72.69  159.27  34.71  41.45  142.14  48.28   \n",
       "2931 2017-08-25  945.26  930.50  72.82  159.86  34.67  41.30  142.94  48.31   \n",
       "2932 2017-08-28  946.02  928.13  72.83  161.47  34.65  40.95  143.74  48.68   \n",
       "2933 2017-08-29  954.06  935.75  73.05  162.91  34.73  41.24  142.51  48.61   \n",
       "\n",
       "       aaba    amd  \n",
       "2929  65.82  12.17  \n",
       "2930  65.50  12.48  \n",
       "2931  64.51  12.50  \n",
       "2932  63.53  12.43  \n",
       "2933  63.17  12.23  "
      ]
     },
     "execution_count": 4,
     "metadata": {},
     "output_type": "execute_result"
    }
   ],
   "source": [
    "data = pd.concat([amzn[['Date','Close']], googl[\"Close\"], msft[\"Close\"], aapl[\"Close\"], intc['Close'], \n",
    "                  nvda_crop['Close'], ibm[\"Close\"], vz['Close'], aaba['Close'], amd_crop['Close']], axis = 1)\n",
    "data.columns = ['Date', 'amzn', 'googl', 'msft', 'aapl', 'intc','nvda', 'ibm', 'vz', 'aaba', 'amd']\n",
    "data = data.drop(data.index[-1])\n",
    "data['Date'] = pd.to_datetime(data['Date'])\n",
    "cols = list(data)[1:11]\n",
    "\n",
    "train_data = data[:-90]\n",
    "test_data = data[-90:]\n",
    "\n",
    "test_data.head(5)"
   ]
  },
  {
   "cell_type": "code",
   "execution_count": 5,
   "id": "30b580fd-6381-48a2-9b63-8b3455d5159a",
   "metadata": {},
   "outputs": [
    {
     "name": "stdout",
     "output_type": "stream",
     "text": [
      "<class 'pandas.core.frame.DataFrame'>\n",
      "RangeIndex: 2929 entries, 0 to 2928\n",
      "Data columns (total 10 columns):\n",
      " #   Column  Non-Null Count  Dtype  \n",
      "---  ------  --------------  -----  \n",
      " 0   amzn    2929 non-null   float64\n",
      " 1   googl   2929 non-null   float64\n",
      " 2   msft    2929 non-null   float64\n",
      " 3   aapl    2929 non-null   float64\n",
      " 4   intc    2929 non-null   float64\n",
      " 5   nvda    2929 non-null   float64\n",
      " 6   ibm     2929 non-null   float64\n",
      " 7   vz      2929 non-null   float64\n",
      " 8   aaba    2929 non-null   float64\n",
      " 9   amd     2929 non-null   float64\n",
      "dtypes: float64(10)\n",
      "memory usage: 229.0 KB\n",
      "<class 'pandas.core.frame.DataFrame'>\n",
      "RangeIndex: 90 entries, 2929 to 3018\n",
      "Data columns (total 10 columns):\n",
      " #   Column  Non-Null Count  Dtype  \n",
      "---  ------  --------------  -----  \n",
      " 0   amzn    90 non-null     float64\n",
      " 1   googl   90 non-null     float64\n",
      " 2   msft    90 non-null     float64\n",
      " 3   aapl    90 non-null     float64\n",
      " 4   intc    90 non-null     float64\n",
      " 5   nvda    90 non-null     float64\n",
      " 6   ibm     90 non-null     float64\n",
      " 7   vz      90 non-null     float64\n",
      " 8   aaba    90 non-null     float64\n",
      " 9   amd     90 non-null     float64\n",
      "dtypes: float64(10)\n",
      "memory usage: 7.2 KB\n"
     ]
    }
   ],
   "source": [
    "train_date = train_data['Date']\n",
    "test_date = test_data['Date']\n",
    "train_data = train_data[cols].astype(float)\n",
    "test_data = test_data[cols].astype(float)\n",
    "np.shape(train_data)\n",
    "\n",
    "train_data.info()\n",
    "test_data.info()"
   ]
  },
  {
   "cell_type": "code",
   "execution_count": 6,
   "id": "66a51ba1-8aad-4fb5-bfed-0bd2306e138d",
   "metadata": {},
   "outputs": [],
   "source": [
    "from sklearn.preprocessing import StandardScaler\n",
    "\n",
    "sc = StandardScaler()\n",
    "sc = sc.fit(train_data)\n",
    "scaled_train_data = sc.transform(train_data)"
   ]
  },
  {
   "cell_type": "code",
   "execution_count": 7,
   "id": "8e751462-3c26-4b83-8b5d-28234bb2e7b9",
   "metadata": {},
   "outputs": [],
   "source": [
    "x_train = []\n",
    "y_train = []\n",
    "\n",
    "n_future = 1\n",
    "n_past = 30\n",
    "\n",
    "for i in range(n_past, len(scaled_train_data) - n_future + 1):\n",
    "    x_train.append(scaled_train_data[i - n_past:i, 0: train_data.shape[1]])\n",
    "    y_train.append(scaled_train_data[i + n_future - 1 :i + n_future, 0 : train_data.shape[1]])\n",
    "\n",
    "x_train, y_train = np.array(x_train), np.array(y_train)"
   ]
  },
  {
   "cell_type": "code",
   "execution_count": 8,
   "id": "6edb5099-66fc-413a-a9d2-b3d715e6ffb9",
   "metadata": {},
   "outputs": [
    {
     "data": {
      "text/plain": [
       "(2899, 1, 10)"
      ]
     },
     "execution_count": 8,
     "metadata": {},
     "output_type": "execute_result"
    }
   ],
   "source": [
    "y_train.shape"
   ]
  },
  {
   "cell_type": "code",
   "execution_count": 9,
   "id": "822cc8b1-b646-4836-ba78-a0125d51e525",
   "metadata": {},
   "outputs": [
    {
     "data": {
      "text/plain": [
       "array([[-0.94937324],\n",
       "       [-0.94981437],\n",
       "       [-0.94965396],\n",
       "       ...,\n",
       "       [ 2.73683489],\n",
       "       [ 2.7160621 ],\n",
       "       [ 2.77064081]])"
      ]
     },
     "execution_count": 9,
     "metadata": {},
     "output_type": "execute_result"
    }
   ],
   "source": [
    "y_train[:,:,0]"
   ]
  },
  {
   "cell_type": "code",
   "execution_count": 10,
   "id": "5b94a302-4717-4b28-a17b-0adbcdd07e01",
   "metadata": {},
   "outputs": [
    {
     "data": {
      "text/plain": [
       "(2899, 30, 10)"
      ]
     },
     "execution_count": 10,
     "metadata": {},
     "output_type": "execute_result"
    }
   ],
   "source": [
    "x_train.shape"
   ]
  },
  {
   "cell_type": "code",
   "execution_count": 11,
   "id": "6e05a079-ec5d-4a46-acd8-23a33870299d",
   "metadata": {},
   "outputs": [],
   "source": [
    "from keras.callbacks import EarlyStopping, ReduceLROnPlateau, ModelCheckpoint, TensorBoard\n",
    "from keras.models import Sequential\n",
    "from keras.layers import Dense, LSTM, Dropout\n",
    "from keras.optimizers import Adam"
   ]
  },
  {
   "cell_type": "code",
   "execution_count": 83,
   "id": "af705464-e40f-4cb8-b98d-ef13d20e1a98",
   "metadata": {},
   "outputs": [
    {
     "name": "stdout",
     "output_type": "stream",
     "text": [
      "Model: \"sequential_13\"\n",
      "_________________________________________________________________\n",
      " Layer (type)                Output Shape              Param #   \n",
      "=================================================================\n",
      " lstm_32 (LSTM)              (None, 30, 128)           71168     \n",
      "                                                                 \n",
      " dropout_26 (Dropout)        (None, 30, 128)           0         \n",
      "                                                                 \n",
      " lstm_33 (LSTM)              (None, 30, 128)           131584    \n",
      "                                                                 \n",
      " dropout_27 (Dropout)        (None, 30, 128)           0         \n",
      "                                                                 \n",
      " lstm_34 (LSTM)              (None, 64)                49408     \n",
      "                                                                 \n",
      " dropout_28 (Dropout)        (None, 64)                0         \n",
      "                                                                 \n",
      " dense_13 (Dense)            (None, 1)                 65        \n",
      "                                                                 \n",
      "=================================================================\n",
      "Total params: 252225 (985.25 KB)\n",
      "Trainable params: 252225 (985.25 KB)\n",
      "Non-trainable params: 0 (0.00 Byte)\n",
      "_________________________________________________________________\n"
     ]
    }
   ],
   "source": [
    "model = Sequential()\n",
    "model.add(LSTM(128, activation = 'tanh', input_shape = (x_train.shape[1], x_train.shape[2]), return_sequences = True))\n",
    "model.add(Dropout(0.5))\n",
    "model.add(LSTM(128, activation = 'tanh', return_sequences = True))\n",
    "model.add(Dropout(0.5))\n",
    "model.add(LSTM(64, activation = 'tanh', return_sequences = False))\n",
    "model.add(Dropout(0.5))\n",
    "model.add(Dense(y_train.shape[1]))\n",
    "model.compile(optimizer = 'adam', loss = 'mse')\n",
    "model.summary()"
   ]
  },
  {
   "cell_type": "code",
   "execution_count": 85,
   "id": "c1a23bc5-b384-46b7-a661-1549c5f9fea8",
   "metadata": {},
   "outputs": [
    {
     "name": "stdout",
     "output_type": "stream",
     "text": [
      "Epoch 1/5\n",
      "82/82 [==============================] - 8s 95ms/step - loss: 0.0146 - val_loss: 0.1100\n",
      "Epoch 2/5\n",
      "82/82 [==============================] - 9s 109ms/step - loss: 0.0153 - val_loss: 0.0369\n",
      "Epoch 3/5\n",
      "82/82 [==============================] - 8s 97ms/step - loss: 0.0138 - val_loss: 0.0383\n",
      "Epoch 4/5\n",
      "82/82 [==============================] - 9s 111ms/step - loss: 0.0130 - val_loss: 0.0430\n",
      "Epoch 5/5\n",
      "82/82 [==============================] - 8s 97ms/step - loss: 0.0126 - val_loss: 0.0352\n",
      "91/91 [==============================] - 6s 66ms/step\n",
      "1/1 [==============================] - 0s 95ms/step\n"
     ]
    },
    {
     "data": {
      "text/plain": [
       "array([938.906  , 937.6541 , 936.4894 , 934.88226, 932.97314, 931.95953,\n",
       "       931.18335, 930.41785, 929.54114, 928.6785 ], dtype=float32)"
      ]
     },
     "execution_count": 85,
     "metadata": {},
     "output_type": "execute_result"
    }
   ],
   "source": [
    "history_amzn = model.fit(x_train, y_train[:,:,0], epochs = 5, batch_size = 32, validation_split = 0.1, verbose = 1)\n",
    "amzn_predictions = model.predict(x_train).flatten()\n",
    "n_future = 10\n",
    "forecast = model.predict(x_train[-n_future:])\n",
    "forecast_copies = np.repeat(forecast, train_data.shape[1], axis = -1)\n",
    "amzn_pred = sc.inverse_transform(forecast_copies)[:,0]\n",
    "amzn_pred"
   ]
  },
  {
   "cell_type": "code",
   "execution_count": 86,
   "id": "6de0cfe6-8152-41e3-95bd-917f1401eb03",
   "metadata": {},
   "outputs": [
    {
     "data": {
      "text/plain": [
       "<matplotlib.legend.Legend at 0x161d0ff2fd0>"
      ]
     },
     "execution_count": 86,
     "metadata": {},
     "output_type": "execute_result"
    },
    {
     "data": {
      "image/png": "[encoded data removed]",
      "text/plain": [
       "<Figure size 640x480 with 1 Axes>"
      ]
     },
     "metadata": {},
     "output_type": "display_data"
    }
   ],
   "source": [
    "plt.plot(history_amzn.history['loss'], label = 'training loss')\n",
    "plt.plot(history_amzn.history['val_loss'], label = 'validation loss')\n",
    "plt.legend()"
   ]
  },
  {
   "cell_type": "code",
   "execution_count": 87,
   "id": "7813d963-8a66-4a18-89a0-52c5597a67df",
   "metadata": {},
   "outputs": [
    {
     "data": {
      "text/plain": [
       "Text(0.5, 1.0, 'Amazon Model')"
      ]
     },
     "execution_count": 87,
     "metadata": {},
     "output_type": "execute_result"
    },
    {
     "data": {
      "image/png": "[encoded data removed]",
      "text/plain": [
       "<Figure size 640x480 with 1 Axes>"
      ]
     },
     "metadata": {},
     "output_type": "display_data"
    }
   ],
   "source": [
    "plt.plot(train_date[30:], amzn_predictions)\n",
    "plt.plot(train_date[30:], y_train[:,:,0])\n",
    "plt.legend(['Training Predictions', 'Training Observations'])\n",
    "plt.title('Amazon Model')"
   ]
  },
  {
   "cell_type": "code",
   "execution_count": 91,
   "id": "406d9a51-3dc1-4444-a9dc-3125664846fd",
   "metadata": {},
   "outputs": [
    {
     "name": "stdout",
     "output_type": "stream",
     "text": [
      "Epoch 1/10\n",
      "82/82 [==============================] - 9s 108ms/step - loss: 0.0178 - val_loss: 0.3457\n",
      "Epoch 2/10\n",
      "82/82 [==============================] - 8s 99ms/step - loss: 0.0161 - val_loss: 0.2979\n",
      "Epoch 3/10\n",
      "82/82 [==============================] - 9s 112ms/step - loss: 0.0171 - val_loss: 0.1856\n",
      "Epoch 4/10\n",
      "82/82 [==============================] - 8s 102ms/step - loss: 0.0165 - val_loss: 0.3679\n",
      "Epoch 5/10\n",
      "82/82 [==============================] - 9s 104ms/step - loss: 0.0178 - val_loss: 0.3711\n",
      "Epoch 6/10\n",
      "82/82 [==============================] - 9s 105ms/step - loss: 0.0172 - val_loss: 0.3217\n",
      "Epoch 7/10\n",
      "82/82 [==============================] - 8s 98ms/step - loss: 0.0161 - val_loss: 0.7983\n",
      "Epoch 8/10\n",
      "82/82 [==============================] - 9s 104ms/step - loss: 0.0151 - val_loss: 0.2509\n",
      "Epoch 9/10\n",
      "82/82 [==============================] - 8s 96ms/step - loss: 0.0158 - val_loss: 0.2984\n",
      "Epoch 10/10\n",
      "82/82 [==============================] - 9s 105ms/step - loss: 0.0153 - val_loss: 0.2989\n",
      "91/91 [==============================] - 5s 56ms/step\n",
      "1/1 [==============================] - 0s 50ms/step\n"
     ]
    },
    {
     "data": {
      "text/plain": [
       "array([692.7248 , 692.5705 , 692.1368 , 691.3774 , 690.696  , 691.14154,\n",
       "       691.8987 , 692.0022 , 691.53064, 690.6788 ], dtype=float32)"
      ]
     },
     "execution_count": 91,
     "metadata": {},
     "output_type": "execute_result"
    }
   ],
   "source": [
    "history_googl = model.fit(x_train, y_train[:,:,1], epochs = 10, batch_size = 32, validation_split = 0.1, verbose = 1)\n",
    "googl_predictions = model.predict(x_train).flatten()\n",
    "n_future = 10\n",
    "forecast = model.predict(x_train[-n_future:])\n",
    "forecast_copies = np.repeat(forecast, train_data.shape[1], axis = -1)\n",
    "googl_pred = sc.inverse_transform(forecast_copies)[:,0]\n",
    "googl_pred"
   ]
  },
  {
   "cell_type": "code",
   "execution_count": 92,
   "id": "d22c7538-ec19-4996-ae8e-57b102b9f245",
   "metadata": {},
   "outputs": [
    {
     "data": {
      "text/plain": [
       "<matplotlib.legend.Legend at 0x161d4bb1cd0>"
      ]
     },
     "execution_count": 92,
     "metadata": {},
     "output_type": "execute_result"
    },
    {
     "data": {
      "image/png": "[encoded data removed]",
      "text/plain": [
       "<Figure size 640x480 with 1 Axes>"
      ]
     },
     "metadata": {},
     "output_type": "display_data"
    }
   ],
   "source": [
    "plt.plot(history_googl.history['loss'], label = 'training loss')\n",
    "plt.plot(history_googl.history['val_loss'], label = 'validation loss')\n",
    "plt.legend()"
   ]
  },
  {
   "cell_type": "code",
   "execution_count": 93,
   "id": "1f8e33c0-8c85-4fcb-b007-21c592eada92",
   "metadata": {},
   "outputs": [
    {
     "data": {
      "text/plain": [
       "Text(0.5, 1.0, 'Google Model')"
      ]
     },
     "execution_count": 93,
     "metadata": {},
     "output_type": "execute_result"
    },
    {
     "data": {
      "image/png": "[encoded data removed]",
      "text/plain": [
       "<Figure size 640x480 with 1 Axes>"
      ]
     },
     "metadata": {},
     "output_type": "display_data"
    }
   ],
   "source": [
    "plt.plot(train_date[30:], googl_predictions)\n",
    "plt.plot(train_date[30:], y_train[:,:,1])\n",
    "plt.legend(['Training Predictions', 'Training Observations'])\n",
    "plt.title('Google Model')"
   ]
  },
  {
   "cell_type": "code",
   "execution_count": 94,
   "id": "62d44156-713c-4606-b897-d9f980aef8fe",
   "metadata": {},
   "outputs": [
    {
     "name": "stdout",
     "output_type": "stream",
     "text": [
      "Epoch 1/5\n",
      "82/82 [==============================] - 9s 106ms/step - loss: 0.0295 - val_loss: 0.9165\n",
      "Epoch 2/5\n",
      "82/82 [==============================] - 8s 96ms/step - loss: 0.0209 - val_loss: 0.6474\n",
      "Epoch 3/5\n",
      "82/82 [==============================] - 9s 105ms/step - loss: 0.0176 - val_loss: 0.4804\n",
      "Epoch 4/5\n",
      "82/82 [==============================] - 8s 97ms/step - loss: 0.0173 - val_loss: 0.5841\n",
      "Epoch 5/5\n",
      "82/82 [==============================] - 10s 117ms/step - loss: 0.0173 - val_loss: 0.6480\n",
      "91/91 [==============================] - 4s 38ms/step\n",
      "1/1 [==============================] - 0s 59ms/step\n"
     ]
    },
    {
     "data": {
      "text/plain": [
       "array([668.94226, 669.3915 , 669.00397, 668.1983 , 668.03064, 669.48425,\n",
       "       671.2087 , 671.7918 , 671.5656 , 670.925  ], dtype=float32)"
      ]
     },
     "execution_count": 94,
     "metadata": {},
     "output_type": "execute_result"
    }
   ],
   "source": [
    "history_msft = model.fit(x_train, y_train[:,:,2], epochs = 5, batch_size = 32, validation_split = 0.1, verbose = 1)\n",
    "msft_predictions = model.predict(x_train).flatten()\n",
    "n_future = 10\n",
    "forecast = model.predict(x_train[-n_future:])\n",
    "forecast_copies = np.repeat(forecast, train_data.shape[1], axis = -1)\n",
    "msft_pred = sc.inverse_transform(forecast_copies)[:,0]\n",
    "msft_pred"
   ]
  },
  {
   "cell_type": "code",
   "execution_count": 95,
   "id": "f850365c-f67c-4102-b748-db926c94c1bc",
   "metadata": {},
   "outputs": [
    {
     "name": "stdout",
     "output_type": "stream",
     "text": [
      "Epoch 1/5\n",
      "82/82 [==============================] - 7s 90ms/step - loss: 0.0432 - val_loss: 0.4540\n",
      "Epoch 2/5\n",
      "82/82 [==============================] - 9s 105ms/step - loss: 0.0210 - val_loss: 0.5013\n",
      "Epoch 3/5\n",
      "82/82 [==============================] - 8s 99ms/step - loss: 0.0226 - val_loss: 0.2312\n",
      "Epoch 4/5\n",
      "82/82 [==============================] - 9s 107ms/step - loss: 0.0200 - val_loss: 0.2149\n",
      "Epoch 5/5\n",
      "82/82 [==============================] - 8s 101ms/step - loss: 0.0205 - val_loss: 0.4415\n",
      "91/91 [==============================] - 6s 63ms/step\n",
      "1/1 [==============================] - 0s 61ms/step\n"
     ]
    },
    {
     "data": {
      "text/plain": [
       "array([588.4691 , 596.58923, 602.4732 , 607.27795, 612.35236, 618.4774 ,\n",
       "       623.28595, 625.2735 , 625.1671 , 624.1348 ], dtype=float32)"
      ]
     },
     "execution_count": 95,
     "metadata": {},
     "output_type": "execute_result"
    }
   ],
   "source": [
    "history_aapl = model.fit(x_train, y_train[:,:,3], epochs = 5, batch_size = 32, validation_split = 0.1, verbose = 1)\n",
    "aapl_predictions = model.predict(x_train).flatten()\n",
    "n_future = 10\n",
    "forecast = model.predict(x_train[-n_future:])\n",
    "forecast_copies = np.repeat(forecast, train_data.shape[1], axis = -1)\n",
    "aapl_pred = sc.inverse_transform(forecast_copies)[:,0]\n",
    "aapl_pred"
   ]
  },
  {
   "cell_type": "code",
   "execution_count": 96,
   "id": "5928833f-0b9e-4184-9646-4cb2277f49e9",
   "metadata": {},
   "outputs": [
    {
     "name": "stdout",
     "output_type": "stream",
     "text": [
      "Epoch 1/5\n",
      "82/82 [==============================] - 8s 99ms/step - loss: 0.0639 - val_loss: 0.2089\n",
      "Epoch 2/5\n",
      "82/82 [==============================] - 9s 104ms/step - loss: 0.0325 - val_loss: 0.1023\n",
      "Epoch 3/5\n",
      "82/82 [==============================] - 8s 100ms/step - loss: 0.0290 - val_loss: 0.1360\n",
      "Epoch 4/5\n",
      "82/82 [==============================] - 9s 107ms/step - loss: 0.0308 - val_loss: 0.2834\n",
      "Epoch 5/5\n",
      "82/82 [==============================] - 8s 96ms/step - loss: 0.0296 - val_loss: 0.2364\n",
      "91/91 [==============================] - 6s 71ms/step\n",
      "1/1 [==============================] - 0s 57ms/step\n"
     ]
    },
    {
     "data": {
      "text/plain": [
       "array([578.3344 , 578.57983, 573.2196 , 563.46906, 554.7703 , 550.1653 ,\n",
       "       547.87665, 543.52075, 537.9831 , 532.01306], dtype=float32)"
      ]
     },
     "execution_count": 96,
     "metadata": {},
     "output_type": "execute_result"
    }
   ],
   "source": [
    "history_intc = model.fit(x_train, y_train[:,:,4], epochs = 5, batch_size = 32, validation_split = 0.1, verbose = 1)\n",
    "intc_predictions = model.predict(x_train).flatten()\n",
    "n_future = 10\n",
    "forecast = model.predict(x_train[-n_future:])\n",
    "forecast_copies = np.repeat(forecast, train_data.shape[1], axis = -1)\n",
    "intc_pred = sc.inverse_transform(forecast_copies)[:,0]\n",
    "intc_pred"
   ]
  },
  {
   "cell_type": "code",
   "execution_count": 97,
   "id": "8f9a4c22-860a-4176-965a-97a2933e121d",
   "metadata": {},
   "outputs": [
    {
     "name": "stdout",
     "output_type": "stream",
     "text": [
      "Epoch 1/5\n",
      "82/82 [==============================] - 8s 99ms/step - loss: 0.0376 - val_loss: 4.7355\n",
      "Epoch 2/5\n",
      "82/82 [==============================] - 9s 108ms/step - loss: 0.0061 - val_loss: 4.7175\n",
      "Epoch 3/5\n",
      "82/82 [==============================] - 8s 96ms/step - loss: 0.0046 - val_loss: 4.5749\n",
      "Epoch 4/5\n",
      "82/82 [==============================] - 9s 109ms/step - loss: 0.0039 - val_loss: 4.5621\n",
      "Epoch 5/5\n",
      "82/82 [==============================] - 8s 99ms/step - loss: 0.0041 - val_loss: 4.6517\n",
      "91/91 [==============================] - 5s 57ms/step\n",
      "1/1 [==============================] - 0s 61ms/step\n"
     ]
    },
    {
     "data": {
      "text/plain": [
       "array([510.48254, 510.6413 , 510.65488, 510.7933 , 510.96188, 510.901  ,\n",
       "       510.97052, 511.02753, 511.0459 , 511.01654], dtype=float32)"
      ]
     },
     "execution_count": 97,
     "metadata": {},
     "output_type": "execute_result"
    }
   ],
   "source": [
    "history_nvda = model.fit(x_train, y_train[:,:,5], epochs = 5, batch_size = 32, validation_split = 0.1, verbose = 1)\n",
    "nvda_predictions = model.predict(x_train).flatten()\n",
    "n_future = 10\n",
    "forecast = model.predict(x_train[-n_future:])\n",
    "forecast_copies = np.repeat(forecast, train_data.shape[1], axis = -1)\n",
    "nvda_pred = sc.inverse_transform(forecast_copies)[:,0]\n",
    "nvda_pred"
   ]
  },
  {
   "cell_type": "code",
   "execution_count": 98,
   "id": "585878c6-7274-4bf8-9e61-11b1806ed71e",
   "metadata": {},
   "outputs": [
    {
     "name": "stdout",
     "output_type": "stream",
     "text": [
      "Epoch 1/5\n",
      "82/82 [==============================] - 8s 98ms/step - loss: 0.1741 - val_loss: 0.1053\n",
      "Epoch 2/5\n",
      "82/82 [==============================] - 9s 108ms/step - loss: 0.0409 - val_loss: 0.1696\n",
      "Epoch 3/5\n",
      "82/82 [==============================] - 8s 98ms/step - loss: 0.0358 - val_loss: 0.1737\n",
      "Epoch 4/5\n",
      "82/82 [==============================] - 9s 107ms/step - loss: 0.0322 - val_loss: 0.1755\n",
      "Epoch 5/5\n",
      "82/82 [==============================] - 8s 98ms/step - loss: 0.0330 - val_loss: 0.2476\n",
      "91/91 [==============================] - 6s 62ms/step\n",
      "1/1 [==============================] - 0s 62ms/step\n"
     ]
    },
    {
     "data": {
      "text/plain": [
       "array([562.96356, 564.1039 , 564.2303 , 562.731  , 558.25824, 554.70593,\n",
       "       551.4494 , 547.86505, 543.6381 , 540.5778 ], dtype=float32)"
      ]
     },
     "execution_count": 98,
     "metadata": {},
     "output_type": "execute_result"
    }
   ],
   "source": [
    "history_ibm = model.fit(x_train, y_train[:,:,6], epochs = 5, batch_size = 32, validation_split = 0.1, verbose = 1)\n",
    "ibm_predictions = model.predict(x_train).flatten()\n",
    "n_future = 10\n",
    "forecast = model.predict(x_train[-n_future:])\n",
    "forecast_copies = np.repeat(forecast, train_data.shape[1], axis = -1)\n",
    "ibm_pred = sc.inverse_transform(forecast_copies)[:,0]\n",
    "ibm_pred"
   ]
  },
  {
   "cell_type": "code",
   "execution_count": 99,
   "id": "b6888049-3692-4c05-94bb-ad98ac48053f",
   "metadata": {},
   "outputs": [
    {
     "name": "stdout",
     "output_type": "stream",
     "text": [
      "Epoch 1/5\n",
      "82/82 [==============================] - 8s 98ms/step - loss: 0.1395 - val_loss: 0.1682\n",
      "Epoch 2/5\n",
      "82/82 [==============================] - 8s 104ms/step - loss: 0.0486 - val_loss: 0.2957\n",
      "Epoch 3/5\n",
      "82/82 [==============================] - 8s 97ms/step - loss: 0.0368 - val_loss: 0.1274\n",
      "Epoch 4/5\n",
      "82/82 [==============================] - 9s 107ms/step - loss: 0.0320 - val_loss: 0.1778\n",
      "Epoch 5/5\n",
      "82/82 [==============================] - 8s 100ms/step - loss: 0.0316 - val_loss: 0.1958\n",
      "91/91 [==============================] - 6s 61ms/step\n",
      "1/1 [==============================] - 0s 58ms/step\n"
     ]
    },
    {
     "data": {
      "text/plain": [
       "array([649.58325, 653.03076, 655.2412 , 656.2615 , 655.7847 , 656.33954,\n",
       "       656.7605 , 656.8652 , 656.5972 , 656.0105 ], dtype=float32)"
      ]
     },
     "execution_count": 99,
     "metadata": {},
     "output_type": "execute_result"
    }
   ],
   "source": [
    "history_vz = model.fit(x_train, y_train[:,:,7], epochs = 5, batch_size = 32, validation_split = 0.1, verbose = 1)\n",
    "vz_predictions = model.predict(x_train).flatten()\n",
    "n_future = 10\n",
    "forecast = model.predict(x_train[-n_future:])\n",
    "forecast_copies = np.repeat(forecast, train_data.shape[1], axis = -1)\n",
    "vz_pred = sc.inverse_transform(forecast_copies)[:,0]\n",
    "vz_pred"
   ]
  },
  {
   "cell_type": "code",
   "execution_count": 100,
   "id": "24f61522-d298-4602-99df-a8dc9f648264",
   "metadata": {},
   "outputs": [
    {
     "name": "stdout",
     "output_type": "stream",
     "text": [
      "Epoch 1/5\n",
      "82/82 [==============================] - 8s 100ms/step - loss: 0.0859 - val_loss: 0.3866\n",
      "Epoch 2/5\n",
      "82/82 [==============================] - 8s 102ms/step - loss: 0.0283 - val_loss: 0.2099\n",
      "Epoch 3/5\n",
      "82/82 [==============================] - 8s 98ms/step - loss: 0.0270 - val_loss: 0.2818\n",
      "Epoch 4/5\n",
      "82/82 [==============================] - 9s 107ms/step - loss: 0.0257 - val_loss: 0.2503\n",
      "Epoch 5/5\n",
      "82/82 [==============================] - 8s 98ms/step - loss: 0.0256 - val_loss: 0.2386\n",
      "91/91 [==============================] - 5s 58ms/step\n",
      "1/1 [==============================] - 0s 67ms/step\n"
     ]
    },
    {
     "data": {
      "text/plain": [
       "array([724.68634, 727.483  , 728.7322 , 728.0524 , 726.2005 , 726.82745,\n",
       "       729.0639 , 732.1729 , 735.77075, 739.843  ], dtype=float32)"
      ]
     },
     "execution_count": 100,
     "metadata": {},
     "output_type": "execute_result"
    }
   ],
   "source": [
    "history_aaba = model.fit(x_train, y_train[:,:,8], epochs = 5, batch_size = 32, validation_split = 0.1, verbose = 1)\n",
    "aaba_predictions = model.predict(x_train).flatten()\n",
    "n_future = 10\n",
    "forecast = model.predict(x_train[-n_future:])\n",
    "forecast_copies = np.repeat(forecast, train_data.shape[1], axis = -1)\n",
    "aaba_pred = sc.inverse_transform(forecast_copies)[:,0]\n",
    "aaba_pred"
   ]
  },
  {
   "cell_type": "code",
   "execution_count": 101,
   "id": "c9b9eb40-4116-4618-9cfc-59e1845e49e9",
   "metadata": {},
   "outputs": [
    {
     "name": "stdout",
     "output_type": "stream",
     "text": [
      "Epoch 1/5\n",
      "82/82 [==============================] - 8s 102ms/step - loss: 0.1454 - val_loss: 0.5335\n",
      "Epoch 2/5\n",
      "82/82 [==============================] - 8s 103ms/step - loss: 0.0516 - val_loss: 0.1183\n",
      "Epoch 3/5\n",
      "82/82 [==============================] - 8s 94ms/step - loss: 0.0343 - val_loss: 0.3319\n",
      "Epoch 4/5\n",
      "82/82 [==============================] - 9s 105ms/step - loss: 0.0400 - val_loss: 0.1842\n",
      "Epoch 5/5\n",
      "82/82 [==============================] - 8s 97ms/step - loss: 0.0392 - val_loss: 0.1187\n",
      "91/91 [==============================] - 5s 51ms/step\n",
      "1/1 [==============================] - 0s 76ms/step\n"
     ]
    },
    {
     "data": {
      "text/plain": [
       "array([517.31726, 510.54358, 501.56796, 484.9797 , 463.9646 , 446.3275 ,\n",
       "       432.2542 , 423.81985, 420.54086, 421.5649 ], dtype=float32)"
      ]
     },
     "execution_count": 101,
     "metadata": {},
     "output_type": "execute_result"
    }
   ],
   "source": [
    "history_amd = model.fit(x_train, y_train[:,:,9], epochs = 5, batch_size = 32, validation_split = 0.1, verbose = 1)\n",
    "amd_predictions = model.predict(x_train).flatten()\n",
    "n_future = 10\n",
    "forecast = model.predict(x_train[-n_future:])\n",
    "forecast_copies = np.repeat(forecast, train_data.shape[1], axis = -1)\n",
    "amd_pred = sc.inverse_transform(forecast_copies)[:,0]\n",
    "amd_pred"
   ]
  },
  {
   "cell_type": "code",
   "execution_count": 102,
   "id": "3191b5f4-dde5-40bd-9ef1-c376810692c9",
   "metadata": {},
   "outputs": [],
   "source": [
    "Predicted_Values = pd.DataFrame({\n",
    "    'amzn': amzn_pred,\n",
    "    'googl': googl_pred, \n",
    "    'msft': msft_pred, \n",
    "    'aapl': aapl_pred, \n",
    "    'intc': intc_pred,\n",
    "    'nvda': nvda_pred, \n",
    "    'ibm': ibm_pred, \n",
    "    'vz': vz_pred, \n",
    "    'aaba': aaba_pred, \n",
    "    'amd' : amd_pred\n",
    "})\n",
    "Predicted_Values = Predicted_Values.astype(float).round(2)"
   ]
  },
  {
   "cell_type": "code",
   "execution_count": 103,
   "id": "8e5fd6b1-aff7-47b3-8f12-8b51a8261ba7",
   "metadata": {},
   "outputs": [
    {
     "data": {
      "text/html": [
       "<div>\n",
       "<style scoped>\n",
       "    .dataframe tbody tr th:only-of-type {\n",
       "        vertical-align: middle;\n",
       "    }\n",
       "\n",
       "    .dataframe tbody tr th {\n",
       "        vertical-align: top;\n",
       "    }\n",
       "\n",
       "    .dataframe thead th {\n",
       "        text-align: right;\n",
       "    }\n",
       "</style>\n",
       "<table border=\"1\" class=\"dataframe\">\n",
       "  <thead>\n",
       "    <tr style=\"text-align: right;\">\n",
       "      <th></th>\n",
       "      <th>amzn</th>\n",
       "      <th>googl</th>\n",
       "      <th>msft</th>\n",
       "      <th>aapl</th>\n",
       "      <th>intc</th>\n",
       "      <th>nvda</th>\n",
       "      <th>ibm</th>\n",
       "      <th>vz</th>\n",
       "      <th>aaba</th>\n",
       "      <th>amd</th>\n",
       "    </tr>\n",
       "  </thead>\n",
       "  <tbody>\n",
       "    <tr>\n",
       "      <th>0</th>\n",
       "      <td>938.91</td>\n",
       "      <td>692.72</td>\n",
       "      <td>668.94</td>\n",
       "      <td>588.47</td>\n",
       "      <td>578.33</td>\n",
       "      <td>510.48</td>\n",
       "      <td>562.96</td>\n",
       "      <td>649.58</td>\n",
       "      <td>724.69</td>\n",
       "      <td>517.32</td>\n",
       "    </tr>\n",
       "    <tr>\n",
       "      <th>1</th>\n",
       "      <td>937.65</td>\n",
       "      <td>692.57</td>\n",
       "      <td>669.39</td>\n",
       "      <td>596.59</td>\n",
       "      <td>578.58</td>\n",
       "      <td>510.64</td>\n",
       "      <td>564.10</td>\n",
       "      <td>653.03</td>\n",
       "      <td>727.48</td>\n",
       "      <td>510.54</td>\n",
       "    </tr>\n",
       "    <tr>\n",
       "      <th>2</th>\n",
       "      <td>936.49</td>\n",
       "      <td>692.14</td>\n",
       "      <td>669.00</td>\n",
       "      <td>602.47</td>\n",
       "      <td>573.22</td>\n",
       "      <td>510.65</td>\n",
       "      <td>564.23</td>\n",
       "      <td>655.24</td>\n",
       "      <td>728.73</td>\n",
       "      <td>501.57</td>\n",
       "    </tr>\n",
       "    <tr>\n",
       "      <th>3</th>\n",
       "      <td>934.88</td>\n",
       "      <td>691.38</td>\n",
       "      <td>668.20</td>\n",
       "      <td>607.28</td>\n",
       "      <td>563.47</td>\n",
       "      <td>510.79</td>\n",
       "      <td>562.73</td>\n",
       "      <td>656.26</td>\n",
       "      <td>728.05</td>\n",
       "      <td>484.98</td>\n",
       "    </tr>\n",
       "    <tr>\n",
       "      <th>4</th>\n",
       "      <td>932.97</td>\n",
       "      <td>690.70</td>\n",
       "      <td>668.03</td>\n",
       "      <td>612.35</td>\n",
       "      <td>554.77</td>\n",
       "      <td>510.96</td>\n",
       "      <td>558.26</td>\n",
       "      <td>655.78</td>\n",
       "      <td>726.20</td>\n",
       "      <td>463.96</td>\n",
       "    </tr>\n",
       "    <tr>\n",
       "      <th>5</th>\n",
       "      <td>931.96</td>\n",
       "      <td>691.14</td>\n",
       "      <td>669.48</td>\n",
       "      <td>618.48</td>\n",
       "      <td>550.17</td>\n",
       "      <td>510.90</td>\n",
       "      <td>554.71</td>\n",
       "      <td>656.34</td>\n",
       "      <td>726.83</td>\n",
       "      <td>446.33</td>\n",
       "    </tr>\n",
       "    <tr>\n",
       "      <th>6</th>\n",
       "      <td>931.18</td>\n",
       "      <td>691.90</td>\n",
       "      <td>671.21</td>\n",
       "      <td>623.29</td>\n",
       "      <td>547.88</td>\n",
       "      <td>510.97</td>\n",
       "      <td>551.45</td>\n",
       "      <td>656.76</td>\n",
       "      <td>729.06</td>\n",
       "      <td>432.25</td>\n",
       "    </tr>\n",
       "    <tr>\n",
       "      <th>7</th>\n",
       "      <td>930.42</td>\n",
       "      <td>692.00</td>\n",
       "      <td>671.79</td>\n",
       "      <td>625.27</td>\n",
       "      <td>543.52</td>\n",
       "      <td>511.03</td>\n",
       "      <td>547.87</td>\n",
       "      <td>656.87</td>\n",
       "      <td>732.17</td>\n",
       "      <td>423.82</td>\n",
       "    </tr>\n",
       "    <tr>\n",
       "      <th>8</th>\n",
       "      <td>929.54</td>\n",
       "      <td>691.53</td>\n",
       "      <td>671.57</td>\n",
       "      <td>625.17</td>\n",
       "      <td>537.98</td>\n",
       "      <td>511.05</td>\n",
       "      <td>543.64</td>\n",
       "      <td>656.60</td>\n",
       "      <td>735.77</td>\n",
       "      <td>420.54</td>\n",
       "    </tr>\n",
       "    <tr>\n",
       "      <th>9</th>\n",
       "      <td>928.68</td>\n",
       "      <td>690.68</td>\n",
       "      <td>670.92</td>\n",
       "      <td>624.13</td>\n",
       "      <td>532.01</td>\n",
       "      <td>511.02</td>\n",
       "      <td>540.58</td>\n",
       "      <td>656.01</td>\n",
       "      <td>739.84</td>\n",
       "      <td>421.56</td>\n",
       "    </tr>\n",
       "  </tbody>\n",
       "</table>\n",
       "</div>"
      ],
      "text/plain": [
       "     amzn   googl    msft    aapl    intc    nvda     ibm      vz    aaba  \\\n",
       "0  938.91  692.72  668.94  588.47  578.33  510.48  562.96  649.58  724.69   \n",
       "1  937.65  692.57  669.39  596.59  578.58  510.64  564.10  653.03  727.48   \n",
       "2  936.49  692.14  669.00  602.47  573.22  510.65  564.23  655.24  728.73   \n",
       "3  934.88  691.38  668.20  607.28  563.47  510.79  562.73  656.26  728.05   \n",
       "4  932.97  690.70  668.03  612.35  554.77  510.96  558.26  655.78  726.20   \n",
       "5  931.96  691.14  669.48  618.48  550.17  510.90  554.71  656.34  726.83   \n",
       "6  931.18  691.90  671.21  623.29  547.88  510.97  551.45  656.76  729.06   \n",
       "7  930.42  692.00  671.79  625.27  543.52  511.03  547.87  656.87  732.17   \n",
       "8  929.54  691.53  671.57  625.17  537.98  511.05  543.64  656.60  735.77   \n",
       "9  928.68  690.68  670.92  624.13  532.01  511.02  540.58  656.01  739.84   \n",
       "\n",
       "      amd  \n",
       "0  517.32  \n",
       "1  510.54  \n",
       "2  501.57  \n",
       "3  484.98  \n",
       "4  463.96  \n",
       "5  446.33  \n",
       "6  432.25  \n",
       "7  423.82  \n",
       "8  420.54  \n",
       "9  421.56  "
      ]
     },
     "execution_count": 103,
     "metadata": {},
     "output_type": "execute_result"
    }
   ],
   "source": [
    "Predicted_Values"
   ]
  },
  {
   "cell_type": "code",
   "execution_count": 104,
   "id": "c56bdc26-1ad0-4ad1-89e2-e19cf17dec34",
   "metadata": {},
   "outputs": [
    {
     "data": {
      "text/html": [
       "<div>\n",
       "<style scoped>\n",
       "    .dataframe tbody tr th:only-of-type {\n",
       "        vertical-align: middle;\n",
       "    }\n",
       "\n",
       "    .dataframe tbody tr th {\n",
       "        vertical-align: top;\n",
       "    }\n",
       "\n",
       "    .dataframe thead th {\n",
       "        text-align: right;\n",
       "    }\n",
       "</style>\n",
       "<table border=\"1\" class=\"dataframe\">\n",
       "  <thead>\n",
       "    <tr style=\"text-align: right;\">\n",
       "      <th></th>\n",
       "      <th>amzn</th>\n",
       "      <th>googl</th>\n",
       "      <th>msft</th>\n",
       "      <th>aapl</th>\n",
       "      <th>intc</th>\n",
       "      <th>nvda</th>\n",
       "      <th>ibm</th>\n",
       "      <th>vz</th>\n",
       "      <th>aaba</th>\n",
       "      <th>amd</th>\n",
       "    </tr>\n",
       "  </thead>\n",
       "  <tbody>\n",
       "    <tr>\n",
       "      <th>2919</th>\n",
       "      <td>982.01</td>\n",
       "      <td>940.08</td>\n",
       "      <td>72.47</td>\n",
       "      <td>161.06</td>\n",
       "      <td>36.59</td>\n",
       "      <td>42.58</td>\n",
       "      <td>142.11</td>\n",
       "      <td>48.60</td>\n",
       "      <td>59.77</td>\n",
       "      <td>13.11</td>\n",
       "    </tr>\n",
       "    <tr>\n",
       "      <th>2920</th>\n",
       "      <td>956.92</td>\n",
       "      <td>923.59</td>\n",
       "      <td>71.41</td>\n",
       "      <td>155.32</td>\n",
       "      <td>36.14</td>\n",
       "      <td>43.03</td>\n",
       "      <td>141.77</td>\n",
       "      <td>48.22</td>\n",
       "      <td>58.03</td>\n",
       "      <td>12.83</td>\n",
       "    </tr>\n",
       "    <tr>\n",
       "      <th>2921</th>\n",
       "      <td>967.99</td>\n",
       "      <td>930.09</td>\n",
       "      <td>72.50</td>\n",
       "      <td>157.48</td>\n",
       "      <td>35.87</td>\n",
       "      <td>41.19</td>\n",
       "      <td>141.84</td>\n",
       "      <td>48.02</td>\n",
       "      <td>57.92</td>\n",
       "      <td>12.12</td>\n",
       "    </tr>\n",
       "    <tr>\n",
       "      <th>2922</th>\n",
       "      <td>983.30</td>\n",
       "      <td>938.93</td>\n",
       "      <td>73.59</td>\n",
       "      <td>159.85</td>\n",
       "      <td>36.34</td>\n",
       "      <td>38.99</td>\n",
       "      <td>141.84</td>\n",
       "      <td>48.06</td>\n",
       "      <td>58.87</td>\n",
       "      <td>12.23</td>\n",
       "    </tr>\n",
       "    <tr>\n",
       "      <th>2923</th>\n",
       "      <td>982.74</td>\n",
       "      <td>938.08</td>\n",
       "      <td>73.22</td>\n",
       "      <td>161.60</td>\n",
       "      <td>36.00</td>\n",
       "      <td>42.10</td>\n",
       "      <td>142.32</td>\n",
       "      <td>48.78</td>\n",
       "      <td>59.99</td>\n",
       "      <td>12.76</td>\n",
       "    </tr>\n",
       "    <tr>\n",
       "      <th>2924</th>\n",
       "      <td>978.18</td>\n",
       "      <td>944.27</td>\n",
       "      <td>73.65</td>\n",
       "      <td>160.95</td>\n",
       "      <td>35.81</td>\n",
       "      <td>41.74</td>\n",
       "      <td>142.07</td>\n",
       "      <td>48.48</td>\n",
       "      <td>60.65</td>\n",
       "      <td>13.02</td>\n",
       "    </tr>\n",
       "    <tr>\n",
       "      <th>2925</th>\n",
       "      <td>960.57</td>\n",
       "      <td>927.66</td>\n",
       "      <td>72.40</td>\n",
       "      <td>157.86</td>\n",
       "      <td>35.17</td>\n",
       "      <td>41.29</td>\n",
       "      <td>142.50</td>\n",
       "      <td>48.41</td>\n",
       "      <td>62.20</td>\n",
       "      <td>12.63</td>\n",
       "    </tr>\n",
       "    <tr>\n",
       "      <th>2926</th>\n",
       "      <td>958.47</td>\n",
       "      <td>926.18</td>\n",
       "      <td>72.49</td>\n",
       "      <td>157.50</td>\n",
       "      <td>35.01</td>\n",
       "      <td>40.37</td>\n",
       "      <td>140.70</td>\n",
       "      <td>47.89</td>\n",
       "      <td>63.07</td>\n",
       "      <td>12.34</td>\n",
       "    </tr>\n",
       "    <tr>\n",
       "      <th>2927</th>\n",
       "      <td>953.29</td>\n",
       "      <td>920.87</td>\n",
       "      <td>72.15</td>\n",
       "      <td>157.21</td>\n",
       "      <td>34.92</td>\n",
       "      <td>40.38</td>\n",
       "      <td>139.70</td>\n",
       "      <td>47.69</td>\n",
       "      <td>63.60</td>\n",
       "      <td>12.37</td>\n",
       "    </tr>\n",
       "    <tr>\n",
       "      <th>2928</th>\n",
       "      <td>966.90</td>\n",
       "      <td>940.40</td>\n",
       "      <td>73.16</td>\n",
       "      <td>159.78</td>\n",
       "      <td>34.65</td>\n",
       "      <td>39.79</td>\n",
       "      <td>140.33</td>\n",
       "      <td>48.14</td>\n",
       "      <td>65.42</td>\n",
       "      <td>12.05</td>\n",
       "    </tr>\n",
       "  </tbody>\n",
       "</table>\n",
       "</div>"
      ],
      "text/plain": [
       "        amzn   googl   msft    aapl   intc   nvda     ibm     vz   aaba    amd\n",
       "2919  982.01  940.08  72.47  161.06  36.59  42.58  142.11  48.60  59.77  13.11\n",
       "2920  956.92  923.59  71.41  155.32  36.14  43.03  141.77  48.22  58.03  12.83\n",
       "2921  967.99  930.09  72.50  157.48  35.87  41.19  141.84  48.02  57.92  12.12\n",
       "2922  983.30  938.93  73.59  159.85  36.34  38.99  141.84  48.06  58.87  12.23\n",
       "2923  982.74  938.08  73.22  161.60  36.00  42.10  142.32  48.78  59.99  12.76\n",
       "2924  978.18  944.27  73.65  160.95  35.81  41.74  142.07  48.48  60.65  13.02\n",
       "2925  960.57  927.66  72.40  157.86  35.17  41.29  142.50  48.41  62.20  12.63\n",
       "2926  958.47  926.18  72.49  157.50  35.01  40.37  140.70  47.89  63.07  12.34\n",
       "2927  953.29  920.87  72.15  157.21  34.92  40.38  139.70  47.69  63.60  12.37\n",
       "2928  966.90  940.40  73.16  159.78  34.65  39.79  140.33  48.14  65.42  12.05"
      ]
     },
     "execution_count": 104,
     "metadata": {},
     "output_type": "execute_result"
    }
   ],
   "source": [
    "train_data[-n_future:]"
   ]
  },
  {
   "cell_type": "code",
   "execution_count": 105,
   "id": "8139d581-884c-4ae3-adc8-92b64754b32d",
   "metadata": {},
   "outputs": [
    {
     "data": {
      "text/plain": [
       "{'amzn': 1385.44361,\n",
       " 'googl': 58311.00403,\n",
       " 'msft': 356589.74285,\n",
       " 'aapl': 205815.88313,\n",
       " 'intc': 270991.3260499999,\n",
       " 'nvda': 220622.63587000003,\n",
       " 'ibm': 171071.20063,\n",
       " 'vz': 368476.19324000005,\n",
       " 'aaba': 447475.33087999996,\n",
       " 'amd': 203603.37531}"
      ]
     },
     "execution_count": 105,
     "metadata": {},
     "output_type": "execute_result"
    }
   ],
   "source": [
    "from sklearn.metrics import mean_squared_error\n",
    "mse_per_column = {}\n",
    "for col in train_data.columns:\n",
    "    mse_per_column[col] = mean_squared_error(train_data[-n_future:][col], Predicted_Values[col])\n",
    "mse_per_column"
   ]
  },
  {
   "cell_type": "code",
   "execution_count": 145,
   "id": "29108968-3d96-45cd-b07c-8ad0e969ef17",
   "metadata": {},
   "outputs": [
    {
     "name": "stdout",
     "output_type": "stream",
     "text": [
      "[Timestamp('2017-08-08 00:00:00'), Timestamp('2017-08-09 00:00:00'), Timestamp('2017-08-10 00:00:00'), Timestamp('2017-08-11 00:00:00'), Timestamp('2017-08-14 00:00:00'), Timestamp('2017-08-15 00:00:00'), Timestamp('2017-08-16 00:00:00'), Timestamp('2017-08-17 00:00:00'), Timestamp('2017-08-18 00:00:00'), Timestamp('2017-08-21 00:00:00')]\n",
      "1/1 [==============================] - 0s 21ms/step\n"
     ]
    }
   ],
   "source": [
    "from pandas.tseries.holiday import USFederalHolidayCalendar\n",
    "from pandas.tseries.offsets import CustomBusinessDay\n",
    "us_bd = CustomBusinessDay(calendar=USFederalHolidayCalendar())\n",
    "#Remember that we can only predict one day in future as our model needs 5 variables\n",
    "#as inputs for prediction. We only have all 5 variables until the last day in our dataset.\n",
    "n_past = 11\n",
    "n_days_for_prediction=10  #let us predict past 15 days\n",
    "\n",
    "predict_period_dates = pd.date_range(list(train_date)[-n_past], periods=n_days_for_prediction, freq=us_bd).tolist()\n",
    "print(predict_period_dates)\n",
    "\n",
    "#Make prediction\n",
    "prediction = model.predict(x_train[-n_days_for_prediction:]) #shape = (n, 1) where n is the n_days_for_prediction\n",
    "\n",
    "#Perform inverse transformation to rescale back to original range\n",
    "#Since we used 5 variables for transform, the inverse expects same dimensions\n",
    "#Therefore, let us copy our values 5 times and discard them after inverse transform\n",
    "prediction_copies = np.repeat(prediction, train_data.shape[1], axis=-1)\n",
    "y_pred_future = sc.inverse_transform(prediction_copies)[:,0]\n",
    "\n",
    "forecast_dates = []\n",
    "for time_i in predict_period_dates:\n",
    "    forecast_dates.append(time_i.date())\n",
    "\n",
    "df_forecast = pd.DataFrame({'Date':np.array(forecast_dates), 'Open':y_pred_future})\n",
    "df_forecast['Date']=pd.to_datetime(df_forecast['Date'])\n"
   ]
  }
 ],
 "metadata": {
  "kernelspec": {
   "display_name": "Python 3 (ipykernel)",
   "language": "python",
   "name": "python3"
  },
  "language_info": {
   "codemirror_mode": {
    "name": "ipython",
    "version": 3
   },
   "file_extension": ".py",
   "mimetype": "text/x-python",
   "name": "python",
   "nbconvert_exporter": "python",
   "pygments_lexer": "ipython3",
   "version": "3.11.5"
  }
 },
 "nbformat": 4,
 "nbformat_minor": 5
}
