{
 "cells": [
  {
   "cell_type": "code",
   "execution_count": 2,
   "id": "2479d31c-0fc3-489c-a147-02eee89e887d",
   "metadata": {},
   "outputs": [],
   "source": [
    "import pandas as pd\n",
    "import numpy as np\n",
    "import matplotlib.pyplot as plt\n",
    "import seaborn as sns\n",
    "import warnings\n",
    "warnings.simplefilter(action = 'ignore')"
   ]
  },
  {
   "cell_type": "code",
   "execution_count": 3,
   "id": "2d0b253e-711e-466c-a0dc-3c9607a3f3d0",
   "metadata": {},
   "outputs": [],
   "source": [
    "amzn = pd.read_csv(\"dataset/AMZN_2006-01-01_to_2018-01-01.csv\")\n",
    "googl = pd.read_csv(\"dataset/GOOGL_2006-01-01_to_2018-01-01.csv\")\n",
    "ibm = pd.read_csv(\"dataset/IBM_2006-01-01_to_2018-01-01.csv\")\n",
    "msft = pd.read_csv(\"dataset/MSFT_2006-01-01_to_2018-01-01.csv\")\n",
    "aapl = pd.read_csv(\"dataset/AAPL_2006-01-01_to_2018-01-01.csv\")\n",
    "intc = pd.read_csv(\"dataset/INTC_2006-01-01_to_2018-01-01.csv\")\n",
    "vz = pd.read_csv(\"dataset/VZ_2006-01-01_to_2018-01-01.csv\")\n",
    "amd = pd.read_csv(\"dataset/AMD.csv\")\n",
    "nvda = pd.read_csv(\"dataset/nvidia_all_time_daily_stock_prices.csv\")\n",
    "aaba = pd.read_csv(\"dataset/AABA_2006-01-01_to_2018-01-01.csv\")"
   ]
  },
  {
   "cell_type": "code",
   "execution_count": 4,
   "id": "414f5775-cc60-44ef-92f8-058bada686c9",
   "metadata": {},
   "outputs": [],
   "source": [
    "amd['Date'] = pd.to_datetime(amd['Date'])\n",
    "nvda['Date'] = pd.to_datetime(nvda['Date'])\n",
    "start_date = pd.to_datetime('2006-01-03')\n",
    "end_date = pd.to_datetime('2017-12-29')\n",
    "amd_crop = amd[(amd['Date'] >= start_date) & (amd['Date'] <= end_date)]\n",
    "amd_crop = amd_crop.reset_index(drop=True)\n",
    "amd_crop['Close'] = amd_crop['Close'].round(2)\n",
    "nvda_crop = nvda[(nvda['Date'] >= start_date) & (nvda['Date'] <= end_date)]\n",
    "nvda_crop = nvda_crop.reset_index(drop = True)\n",
    "nvda_crop['Close'] = nvda_crop['Close'].round(2)"
   ]
  },
  {
   "cell_type": "code",
   "execution_count": 5,
   "id": "38ef3aff-225e-4abf-85bb-81f5d5fcaf16",
   "metadata": {},
   "outputs": [
    {
     "data": {
      "text/html": [
       "<div>\n",
       "<style scoped>\n",
       "    .dataframe tbody tr th:only-of-type {\n",
       "        vertical-align: middle;\n",
       "    }\n",
       "\n",
       "    .dataframe tbody tr th {\n",
       "        vertical-align: top;\n",
       "    }\n",
       "\n",
       "    .dataframe thead th {\n",
       "        text-align: right;\n",
       "    }\n",
       "</style>\n",
       "<table border=\"1\" class=\"dataframe\">\n",
       "  <thead>\n",
       "    <tr style=\"text-align: right;\">\n",
       "      <th></th>\n",
       "      <th>Date</th>\n",
       "      <th>amzn</th>\n",
       "      <th>googl</th>\n",
       "      <th>msft</th>\n",
       "      <th>aapl</th>\n",
       "      <th>intc</th>\n",
       "      <th>nvda</th>\n",
       "      <th>ibm</th>\n",
       "      <th>vz</th>\n",
       "      <th>aaba</th>\n",
       "      <th>amd</th>\n",
       "    </tr>\n",
       "  </thead>\n",
       "  <tbody>\n",
       "    <tr>\n",
       "      <th>2919</th>\n",
       "      <td>2017-08-09</td>\n",
       "      <td>982.01</td>\n",
       "      <td>940.08</td>\n",
       "      <td>72.47</td>\n",
       "      <td>161.06</td>\n",
       "      <td>36.59</td>\n",
       "      <td>42.58</td>\n",
       "      <td>142.11</td>\n",
       "      <td>48.60</td>\n",
       "      <td>59.77</td>\n",
       "      <td>13.11</td>\n",
       "    </tr>\n",
       "    <tr>\n",
       "      <th>2920</th>\n",
       "      <td>2017-08-10</td>\n",
       "      <td>956.92</td>\n",
       "      <td>923.59</td>\n",
       "      <td>71.41</td>\n",
       "      <td>155.32</td>\n",
       "      <td>36.14</td>\n",
       "      <td>43.03</td>\n",
       "      <td>141.77</td>\n",
       "      <td>48.22</td>\n",
       "      <td>58.03</td>\n",
       "      <td>12.83</td>\n",
       "    </tr>\n",
       "    <tr>\n",
       "      <th>2921</th>\n",
       "      <td>2017-08-11</td>\n",
       "      <td>967.99</td>\n",
       "      <td>930.09</td>\n",
       "      <td>72.50</td>\n",
       "      <td>157.48</td>\n",
       "      <td>35.87</td>\n",
       "      <td>41.19</td>\n",
       "      <td>141.84</td>\n",
       "      <td>48.02</td>\n",
       "      <td>57.92</td>\n",
       "      <td>12.12</td>\n",
       "    </tr>\n",
       "    <tr>\n",
       "      <th>2922</th>\n",
       "      <td>2017-08-14</td>\n",
       "      <td>983.30</td>\n",
       "      <td>938.93</td>\n",
       "      <td>73.59</td>\n",
       "      <td>159.85</td>\n",
       "      <td>36.34</td>\n",
       "      <td>38.99</td>\n",
       "      <td>141.84</td>\n",
       "      <td>48.06</td>\n",
       "      <td>58.87</td>\n",
       "      <td>12.23</td>\n",
       "    </tr>\n",
       "    <tr>\n",
       "      <th>2923</th>\n",
       "      <td>2017-08-15</td>\n",
       "      <td>982.74</td>\n",
       "      <td>938.08</td>\n",
       "      <td>73.22</td>\n",
       "      <td>161.60</td>\n",
       "      <td>36.00</td>\n",
       "      <td>42.10</td>\n",
       "      <td>142.32</td>\n",
       "      <td>48.78</td>\n",
       "      <td>59.99</td>\n",
       "      <td>12.76</td>\n",
       "    </tr>\n",
       "  </tbody>\n",
       "</table>\n",
       "</div>"
      ],
      "text/plain": [
       "           Date    amzn   googl   msft    aapl   intc   nvda     ibm     vz  \\\n",
       "2919 2017-08-09  982.01  940.08  72.47  161.06  36.59  42.58  142.11  48.60   \n",
       "2920 2017-08-10  956.92  923.59  71.41  155.32  36.14  43.03  141.77  48.22   \n",
       "2921 2017-08-11  967.99  930.09  72.50  157.48  35.87  41.19  141.84  48.02   \n",
       "2922 2017-08-14  983.30  938.93  73.59  159.85  36.34  38.99  141.84  48.06   \n",
       "2923 2017-08-15  982.74  938.08  73.22  161.60  36.00  42.10  142.32  48.78   \n",
       "\n",
       "       aaba    amd  \n",
       "2919  59.77  13.11  \n",
       "2920  58.03  12.83  \n",
       "2921  57.92  12.12  \n",
       "2922  58.87  12.23  \n",
       "2923  59.99  12.76  "
      ]
     },
     "execution_count": 5,
     "metadata": {},
     "output_type": "execute_result"
    }
   ],
   "source": [
    "data = pd.concat([amzn[['Date','Close']], googl[\"Close\"], msft[\"Close\"], aapl[\"Close\"], intc['Close'], \n",
    "                  nvda_crop['Close'], ibm[\"Close\"], vz['Close'], aaba['Close'], amd_crop['Close']], axis = 1)\n",
    "data.columns = ['Date', 'amzn', 'googl', 'msft', 'aapl', 'intc','nvda', 'ibm', 'vz', 'aaba', 'amd']\n",
    "data = data.drop(data.index[-1])\n",
    "data['Date'] = pd.to_datetime(data['Date'])\n",
    "cols = list(data)[1:11]\n",
    "\n",
    "train_data = data[:-100]\n",
    "test_data = data[-100:]\n",
    "\n",
    "test_data.head(5)"
   ]
  },
  {
   "cell_type": "code",
   "execution_count": 6,
   "id": "30b580fd-6381-48a2-9b63-8b3455d5159a",
   "metadata": {},
   "outputs": [
    {
     "name": "stdout",
     "output_type": "stream",
     "text": [
      "<class 'pandas.core.frame.DataFrame'>\n",
      "RangeIndex: 2919 entries, 0 to 2918\n",
      "Data columns (total 10 columns):\n",
      " #   Column  Non-Null Count  Dtype  \n",
      "---  ------  --------------  -----  \n",
      " 0   amzn    2919 non-null   float64\n",
      " 1   googl   2919 non-null   float64\n",
      " 2   msft    2919 non-null   float64\n",
      " 3   aapl    2919 non-null   float64\n",
      " 4   intc    2919 non-null   float64\n",
      " 5   nvda    2919 non-null   float64\n",
      " 6   ibm     2919 non-null   float64\n",
      " 7   vz      2919 non-null   float64\n",
      " 8   aaba    2919 non-null   float64\n",
      " 9   amd     2919 non-null   float64\n",
      "dtypes: float64(10)\n",
      "memory usage: 228.2 KB\n",
      "<class 'pandas.core.frame.DataFrame'>\n",
      "RangeIndex: 100 entries, 2919 to 3018\n",
      "Data columns (total 10 columns):\n",
      " #   Column  Non-Null Count  Dtype  \n",
      "---  ------  --------------  -----  \n",
      " 0   amzn    100 non-null    float64\n",
      " 1   googl   100 non-null    float64\n",
      " 2   msft    100 non-null    float64\n",
      " 3   aapl    100 non-null    float64\n",
      " 4   intc    100 non-null    float64\n",
      " 5   nvda    100 non-null    float64\n",
      " 6   ibm     100 non-null    float64\n",
      " 7   vz      100 non-null    float64\n",
      " 8   aaba    100 non-null    float64\n",
      " 9   amd     100 non-null    float64\n",
      "dtypes: float64(10)\n",
      "memory usage: 7.9 KB\n"
     ]
    }
   ],
   "source": [
    "train_date = train_data['Date']\n",
    "test_date = test_data['Date']\n",
    "train_data = train_data[cols].astype(float)\n",
    "test_data = test_data[cols].astype(float)\n",
    "np.shape(train_data)\n",
    "\n",
    "train_data.info()\n",
    "test_data.info()"
   ]
  },
  {
   "cell_type": "code",
   "execution_count": 7,
   "id": "66a51ba1-8aad-4fb5-bfed-0bd2306e138d",
   "metadata": {},
   "outputs": [],
   "source": [
    "from sklearn.preprocessing import StandardScaler\n",
    "\n",
    "sc = StandardScaler()\n",
    "sc = sc.fit(train_data)\n",
    "scaled_train_data = sc.transform(train_data)"
   ]
  },
  {
   "cell_type": "code",
   "execution_count": 24,
   "id": "8e751462-3c26-4b83-8b5d-28234bb2e7b9",
   "metadata": {},
   "outputs": [],
   "source": [
    "x_train = []\n",
    "y_train = []\n",
    "\n",
    "n_future = 1\n",
    "n_past = 30\n",
    "\n",
    "for i in range(n_past, len(scaled_train_data) - n_future + 1):\n",
    "    x_train.append(scaled_train_data[i - n_past:i, 0: train_data.shape[1]])\n",
    "    y_train.append(scaled_train_data[i + n_future - 1 :i + n_future, 0 : train_data.shape[1]])\n",
    "\n",
    "x_train, y_train = np.array(x_train), np.array(y_train)"
   ]
  },
  {
   "cell_type": "code",
   "execution_count": 44,
   "id": "6edb5099-66fc-413a-a9d2-b3d715e6ffb9",
   "metadata": {},
   "outputs": [
    {
     "data": {
      "text/plain": [
       "(2889, 1, 10)"
      ]
     },
     "execution_count": 44,
     "metadata": {},
     "output_type": "execute_result"
    }
   ],
   "source": [
    "y_train.shape"
   ]
  },
  {
   "cell_type": "code",
   "execution_count": 45,
   "id": "822cc8b1-b646-4836-ba78-a0125d51e525",
   "metadata": {},
   "outputs": [
    {
     "data": {
      "text/plain": [
       "array([[-0.95091513],\n",
       "       [-0.95136144],\n",
       "       [-0.95119914],\n",
       "       ...,\n",
       "       [ 2.8967941 ],\n",
       "       [ 2.91582328],\n",
       "       [ 2.90596381]])"
      ]
     },
     "execution_count": 45,
     "metadata": {},
     "output_type": "execute_result"
    }
   ],
   "source": [
    "y_train[:,:,0]"
   ]
  },
  {
   "cell_type": "code",
   "execution_count": 41,
   "id": "5b94a302-4717-4b28-a17b-0adbcdd07e01",
   "metadata": {},
   "outputs": [
    {
     "data": {
      "text/plain": [
       "(2889, 30, 10)"
      ]
     },
     "execution_count": 41,
     "metadata": {},
     "output_type": "execute_result"
    }
   ],
   "source": [
    "x_train.shape"
   ]
  },
  {
   "cell_type": "code",
   "execution_count": 28,
   "id": "6e05a079-ec5d-4a46-acd8-23a33870299d",
   "metadata": {},
   "outputs": [],
   "source": [
    "from keras.callbacks import EarlyStopping, ReduceLROnPlateau, ModelCheckpoint, TensorBoard\n",
    "from keras.models import Sequential\n",
    "from keras.layers import Dense, LSTM, Dropout\n",
    "from keras.optimizers import Adam"
   ]
  },
  {
   "cell_type": "code",
   "execution_count": 91,
   "id": "af705464-e40f-4cb8-b98d-ef13d20e1a98",
   "metadata": {},
   "outputs": [
    {
     "name": "stdout",
     "output_type": "stream",
     "text": [
      "Model: \"sequential_11\"\n",
      "_________________________________________________________________\n",
      " Layer (type)                Output Shape              Param #   \n",
      "=================================================================\n",
      " lstm_26 (LSTM)              (None, 30, 64)            19200     \n",
      "                                                                 \n",
      " lstm_27 (LSTM)              (None, 32)                12416     \n",
      "                                                                 \n",
      " dropout_11 (Dropout)        (None, 32)                0         \n",
      "                                                                 \n",
      " dense_11 (Dense)            (None, 1)                 33        \n",
      "                                                                 \n",
      "=================================================================\n",
      "Total params: 31649 (123.63 KB)\n",
      "Trainable params: 31649 (123.63 KB)\n",
      "Non-trainable params: 0 (0.00 Byte)\n",
      "_________________________________________________________________\n"
     ]
    }
   ],
   "source": [
    "model = Sequential()\n",
    "model.add(LSTM(64, activation = 'relu', input_shape = (x_train.shape[1], x_train.shape[2]), return_sequences = True))\n",
    "model.add(LSTM(32, activation = 'relu', return_sequences = False))\n",
    "model.add(Dropout(0.5))\n",
    "model.add(Dense(y_train.shape[1]))\n",
    "model.compile(optimizer = 'adam', loss = 'mse')\n",
    "model.summary()"
   ]
  },
  {
   "cell_type": "code",
   "execution_count": 67,
   "id": "c1a23bc5-b384-46b7-a661-1549c5f9fea8",
   "metadata": {},
   "outputs": [
    {
     "name": "stdout",
     "output_type": "stream",
     "text": [
      "Epoch 1/5\n",
      "82/82 [==============================] - 1s 14ms/step - loss: 0.0320 - val_loss: 0.0319\n",
      "Epoch 2/5\n",
      "82/82 [==============================] - 1s 14ms/step - loss: 0.0300 - val_loss: 0.0602\n",
      "Epoch 3/5\n",
      "82/82 [==============================] - 1s 15ms/step - loss: 0.0335 - val_loss: 0.0326\n",
      "Epoch 4/5\n",
      "82/82 [==============================] - 1s 14ms/step - loss: 0.0322 - val_loss: 0.0970\n",
      "Epoch 5/5\n",
      "82/82 [==============================] - 1s 14ms/step - loss: 0.0331 - val_loss: 0.0372\n"
     ]
    }
   ],
   "source": [
    "history = model.fit(x_train, y_train[:,:,0], epochs = 5, batch_size = 32, validation_split = 0.1, verbose = 1)"
   ]
  },
  {
   "cell_type": "code",
   "execution_count": 102,
   "id": "79ebab7f-8d1e-470f-9491-51d275a9ba96",
   "metadata": {},
   "outputs": [
    {
     "ename": "NameError",
     "evalue": "name 'hisotry_amzn' is not defined",
     "output_type": "error",
     "traceback": [
      "\u001b[1;31m---------------------------------------------------------------------------\u001b[0m",
      "\u001b[1;31mNameError\u001b[0m                                 Traceback (most recent call last)",
      "Cell \u001b[1;32mIn[102], line 1\u001b[0m\n\u001b[1;32m----> 1\u001b[0m hisotry_amzn\n\u001b[0;32m      2\u001b[0m histroy_\n\u001b[0;32m      3\u001b[0m histroy_\n",
      "\u001b[1;31mNameError\u001b[0m: name 'hisotry_amzn' is not defined"
     ]
    }
   ],
   "source": [
    "hisotry_amzn = model.fit(x_train, y_train[:,:,0], epochs = 5, batch_size = 32, validation_split = 0.1, verbose = 1)"
   ]
  },
  {
   "cell_type": "code",
   "execution_count": null,
   "id": "406d9a51-3dc1-4444-a9dc-3125664846fd",
   "metadata": {},
   "outputs": [],
   "source": [
    "history_googl = model.fit(x_train, y_train[:,:,1], epochs = 5, batch_size = 32, validation_split = 0.1, verbose = 1)"
   ]
  },
  {
   "cell_type": "code",
   "execution_count": null,
   "id": "62d44156-713c-4606-b897-d9f980aef8fe",
   "metadata": {},
   "outputs": [],
   "source": [
    "history_msft = model.fit(x_train, y_train[:,:,2], epochs = 5, batch_size = 32, validation_split = 0.1, verbose = 1)"
   ]
  },
  {
   "cell_type": "code",
   "execution_count": null,
   "id": "f850365c-f67c-4102-b748-db926c94c1bc",
   "metadata": {},
   "outputs": [],
   "source": [
    "history_aapl = model.fit(x_train, y_train[:,:,3], epochs = 5, batch_size = 32, validation_split = 0.1, verbose = 1)"
   ]
  },
  {
   "cell_type": "code",
   "execution_count": null,
   "id": "5928833f-0b9e-4184-9646-4cb2277f49e9",
   "metadata": {},
   "outputs": [],
   "source": [
    "history_intc = model.fit(x_train, y_train[:,:,4], epochs = 5, batch_size = 32, validation_split = 0.1, verbose = 1)"
   ]
  },
  {
   "cell_type": "code",
   "execution_count": null,
   "id": "8f9a4c22-860a-4176-965a-97a2933e121d",
   "metadata": {},
   "outputs": [],
   "source": [
    "history_nvda = model.fit(x_train, y_train[:,:,5], epochs = 5, batch_size = 32, validation_split = 0.1, verbose = 1)"
   ]
  },
  {
   "cell_type": "code",
   "execution_count": null,
   "id": "585878c6-7274-4bf8-9e61-11b1806ed71e",
   "metadata": {},
   "outputs": [],
   "source": [
    "history_ibm = model.fit(x_train, y_train[:,:,6], epochs = 5, batch_size = 32, validation_split = 0.1, verbose = 1)"
   ]
  },
  {
   "cell_type": "code",
   "execution_count": null,
   "id": "b6888049-3692-4c05-94bb-ad98ac48053f",
   "metadata": {},
   "outputs": [],
   "source": [
    "history_vz = model.fit(x_train, y_train[:,:,7], epochs = 5, batch_size = 32, validation_split = 0.1, verbose = 1)"
   ]
  },
  {
   "cell_type": "code",
   "execution_count": null,
   "id": "24f61522-d298-4602-99df-a8dc9f648264",
   "metadata": {},
   "outputs": [],
   "source": [
    "history_aaba = model.fit(x_train, y_train[:,:,8], epochs = 5, batch_size = 32, validation_split = 0.1, verbose = 1)"
   ]
  },
  {
   "cell_type": "code",
   "execution_count": null,
   "id": "c9b9eb40-4116-4618-9cfc-59e1845e49e9",
   "metadata": {},
   "outputs": [],
   "source": [
    "history_amd = model.fit(x_train, y_train[:,:,9], epochs = 5, batch_size = 32, validation_split = 0.1, verbose = 1)"
   ]
  },
  {
   "cell_type": "code",
   "execution_count": null,
   "id": "8f930681-e22c-4a23-9da6-65380cb5798a",
   "metadata": {},
   "outputs": [],
   "source": [
    "from sklearn.model_selection import train_test_split\n",
    "\n",
    "x_train_sets = []\n",
    "y_train_sets = []\n",
    "\n",
    "for column in df.columns:\n",
    "    # Extract features (X_train) and target variable (Y_train) for the current column\n",
    "    x_train = df.drop(column, axis=1)  # Dropping the current column to get features\n",
    "    y_train = df[column]  # Target variable is the current column\n",
    "    \n",
    "    # Append the X_train and Y_train to the respective lists\n",
    "    X_train_sets.append(X_train)\n",
    "    Y_train_sets.append(Y_train)"
   ]
  },
  {
   "cell_type": "code",
   "execution_count": 78,
   "id": "4c1f012e-3a82-4cfa-b783-13c40ba56825",
   "metadata": {},
   "outputs": [
    {
     "data": {
      "text/plain": [
       "<matplotlib.legend.Legend at 0x206ece8ab10>"
      ]
     },
     "execution_count": 78,
     "metadata": {},
     "output_type": "execute_result"
    },
    {
     "data": {
      "image/png": "[encoded data removed]",
      "text/plain": [
       "<Figure size 640x480 with 1 Axes>"
      ]
     },
     "metadata": {},
     "output_type": "display_data"
    }
   ],
   "source": [
    "plt.plot(history.history['loss'], label = 'training loss')\n",
    "plt.plot(history.history['val_loss'], label = 'validation loss')\n",
    "plt.legend()"
   ]
  },
  {
   "cell_type": "code",
   "execution_count": 84,
   "id": "c44cde03-0706-4cde-9e77-f137e4eb6ee7",
   "metadata": {},
   "outputs": [
    {
     "name": "stdout",
     "output_type": "stream",
     "text": [
      "91/91 [==============================] - 1s 8ms/step\n"
     ]
    }
   ],
   "source": [
    "train_predictions = model.predict(x_train).flatten()"
   ]
  },
  {
   "cell_type": "code",
   "execution_count": 98,
   "id": "4b7751d7-d33b-4645-9ce3-0ab01d639225",
   "metadata": {},
   "outputs": [
    {
     "ename": "ValueError",
     "evalue": "non-broadcastable output operand with shape (2889,1) doesn't match the broadcast shape (2889,10)",
     "output_type": "error",
     "traceback": [
      "\u001b[1;31m---------------------------------------------------------------------------\u001b[0m",
      "\u001b[1;31mValueError\u001b[0m                                Traceback (most recent call last)",
      "Cell \u001b[1;32mIn[98], line 3\u001b[0m\n\u001b[0;32m      1\u001b[0m inverse_y_train \u001b[38;5;241m=\u001b[39m []\n\u001b[0;32m      2\u001b[0m \u001b[38;5;28;01mfor\u001b[39;00m i \u001b[38;5;129;01min\u001b[39;00m \u001b[38;5;28mrange\u001b[39m (\u001b[38;5;241m10\u001b[39m):\n\u001b[1;32m----> 3\u001b[0m     inverse_y_train[i] \u001b[38;5;241m=\u001b[39m sc\u001b[38;5;241m.\u001b[39minverse_transform(y_train[:,:,i])\n",
      "File \u001b[1;32m~\\AppData\\Roaming\\Python\\Python311\\site-packages\\sklearn\\preprocessing\\_data.py:1066\u001b[0m, in \u001b[0;36mStandardScaler.inverse_transform\u001b[1;34m(self, X, copy)\u001b[0m\n\u001b[0;32m   1064\u001b[0m \u001b[38;5;28;01melse\u001b[39;00m:\n\u001b[0;32m   1065\u001b[0m     \u001b[38;5;28;01mif\u001b[39;00m \u001b[38;5;28mself\u001b[39m\u001b[38;5;241m.\u001b[39mwith_std:\n\u001b[1;32m-> 1066\u001b[0m         X \u001b[38;5;241m*\u001b[39m\u001b[38;5;241m=\u001b[39m \u001b[38;5;28mself\u001b[39m\u001b[38;5;241m.\u001b[39mscale_\n\u001b[0;32m   1067\u001b[0m     \u001b[38;5;28;01mif\u001b[39;00m \u001b[38;5;28mself\u001b[39m\u001b[38;5;241m.\u001b[39mwith_mean:\n\u001b[0;32m   1068\u001b[0m         X \u001b[38;5;241m+\u001b[39m\u001b[38;5;241m=\u001b[39m \u001b[38;5;28mself\u001b[39m\u001b[38;5;241m.\u001b[39mmean_\n",
      "\u001b[1;31mValueError\u001b[0m: non-broadcastable output operand with shape (2889,1) doesn't match the broadcast shape (2889,10)"
     ]
    }
   ],
   "source": [
    "inverse_y_train = []\n",
    "for i in range (10):\n",
    "    inverse_y_train[i] = sc.inverse_transform(y_train[:,:,i])"
   ]
  },
  {
   "cell_type": "code",
   "execution_count": 90,
   "id": "a1177078-29d0-4364-983f-4d6c7920820d",
   "metadata": {},
   "outputs": [
    {
     "data": {
      "text/plain": [
       "<matplotlib.legend.Legend at 0x206ee18b010>"
      ]
     },
     "execution_count": 90,
     "metadata": {},
     "output_type": "execute_result"
    },
    {
     "data": {
      "image/png": "[encoded data removed]",
      "text/plain": [
       "<Figure size 640x480 with 1 Axes>"
      ]
     },
     "metadata": {},
     "output_type": "display_data"
    }
   ],
   "source": [
    "plt.plot(train_date[30:], train_predictions)\n",
    "plt.plot(train_date[30:], y_train[:,:,0])\n",
    "plt.legend(['Training Predictions', 'Training Observations'])"
   ]
  },
  {
   "cell_type": "code",
   "execution_count": null,
   "id": "29108968-3d96-45cd-b07c-8ad0e969ef17",
   "metadata": {},
   "outputs": [],
   "source": [
    "from pandas.tseries.holiday import USFederalHolidayCalendar\n",
    "from pandas.tseries.offsets import CustomBusinessDay\n",
    "us_bd = CustomBusinessDay(calendar=USFederalHolidayCalendar())\n",
    "#Remember that we can only predict one day in future as our model needs 5 variables\n",
    "#as inputs for prediction. We only have all 5 variables until the last day in our dataset.\n",
    "n_past = 16\n",
    "n_days_for_prediction=15  #let us predict past 15 days\n",
    "\n",
    "predict_period_dates = pd.date_range(list(train_dates)[-n_past], periods=n_days_for_prediction, freq=us_bd).tolist()\n",
    "print(predict_period_dates)\n",
    "\n",
    "#Make prediction\n",
    "prediction = model.predict(trainX[-n_days_for_prediction:]) #shape = (n, 1) where n is the n_days_for_prediction\n",
    "\n",
    "#Perform inverse transformation to rescale back to original range\n",
    "#Since we used 5 variables for transform, the inverse expects same dimensions\n",
    "#Therefore, let us copy our values 5 times and discard them after inverse transform\n",
    "prediction_copies = np.repeat(prediction, df_for_training.shape[1], axis=-1)\n",
    "y_pred_future = scaler.inverse_transform(prediction_copies)[:,0]\n",
    "\n",
    "\n",
    "Convert timestamp to date\n",
    "forecast_dates = []\n",
    "for time_i in predict_period_dates:\n",
    "    forecast_dates.append(time_i.date())\n",
    "\n",
    "df_forecast = pd.DataFrame({'Date':np.array(forecast_dates), 'Open':y_pred_future})\n",
    "df_forecast['Date']=pd.to_datetime(df_forecast['Date'])\n",
    "\n",
    "\n",
    "original = df[['Date', 'Open']]\n",
    "original['Date']=pd.to_datetime(original['Date'])\n",
    "original = original.loc[original['Date'] >= '2020-5-1']\n",
    "\n",
    "sns.lineplot(original['Date'], original['Open'])\n",
    "sns.lineplot(df_forecast['Date'], df_forecast['Open'])"
   ]
  },
  {
   "cell_type": "code",
   "execution_count": null,
   "id": "c8aca55b-c7e8-487d-b558-3c0ce4eccee5",
   "metadata": {},
   "outputs": [],
   "source": []
  },
  {
   "cell_type": "code",
   "execution_count": 77,
   "id": "b1019073-b5d6-414a-accc-1354d21dc78e",
   "metadata": {},
   "outputs": [
    {
     "ename": "NameError",
     "evalue": "name 'x_test' is not defined",
     "output_type": "error",
     "traceback": [
      "\u001b[1;31m---------------------------------------------------------------------------\u001b[0m",
      "\u001b[1;31mNameError\u001b[0m                                 Traceback (most recent call last)",
      "Cell \u001b[1;32mIn[77], line 1\u001b[0m\n\u001b[1;32m----> 1\u001b[0m predictions \u001b[38;5;241m=\u001b[39m model\u001b[38;5;241m.\u001b[39mpredict(x_test)\n",
      "\u001b[1;31mNameError\u001b[0m: name 'x_test' is not defined"
     ]
    }
   ],
   "source": [
    "predictions = model.predict(x_test)"
   ]
  },
  {
   "cell_type": "code",
   "execution_count": 20,
   "id": "87706d1e-6a05-4f16-a0e3-9b679cbcfd2f",
   "metadata": {},
   "outputs": [],
   "source": [
    "def Prediction():\n",
    "    for num_y in range(0:9):\n",
    "        history[num_y] = model.fit(x_train, y_train[num_y], epochs = 10, shuffle = False, validation_split = 0.1)"
   ]
  },
  {
   "cell_type": "code",
   "execution_count": 21,
   "id": "73e5646a-0b1d-4723-80e6-134ab487cde5",
   "metadata": {},
   "outputs": [
    {
     "ename": "ValueError",
     "evalue": "Data cardinality is ambiguous:\n  x sizes: 2600\n  y sizes: 1\nMake sure all arrays contain the same number of samples.",
     "output_type": "error",
     "traceback": [
      "\u001b[1;31m---------------------------------------------------------------------------\u001b[0m",
      "\u001b[1;31mValueError\u001b[0m                                Traceback (most recent call last)",
      "Cell \u001b[1;32mIn[21], line 1\u001b[0m\n\u001b[1;32m----> 1\u001b[0m Prediction()\n",
      "Cell \u001b[1;32mIn[20], line 3\u001b[0m, in \u001b[0;36mPrediction\u001b[1;34m()\u001b[0m\n\u001b[0;32m      1\u001b[0m \u001b[38;5;28;01mdef\u001b[39;00m \u001b[38;5;21mPrediction\u001b[39m():\n\u001b[0;32m      2\u001b[0m     \u001b[38;5;28;01mfor\u001b[39;00m num_y \u001b[38;5;129;01min\u001b[39;00m \u001b[38;5;28mrange\u001b[39m(\u001b[38;5;241m10\u001b[39m):\n\u001b[1;32m----> 3\u001b[0m         history[num_y] \u001b[38;5;241m=\u001b[39m model\u001b[38;5;241m.\u001b[39mfit(x_train, y_train[num_y], epochs \u001b[38;5;241m=\u001b[39m \u001b[38;5;241m10\u001b[39m, shuffle \u001b[38;5;241m=\u001b[39m \u001b[38;5;28;01mFalse\u001b[39;00m, validation_split \u001b[38;5;241m=\u001b[39m \u001b[38;5;241m0.1\u001b[39m)\n",
      "File \u001b[1;32mC:\\ProgramData\\miniconda3\\Lib\\site-packages\\keras\\src\\utils\\traceback_utils.py:70\u001b[0m, in \u001b[0;36mfilter_traceback.<locals>.error_handler\u001b[1;34m(*args, **kwargs)\u001b[0m\n\u001b[0;32m     67\u001b[0m     filtered_tb \u001b[38;5;241m=\u001b[39m _process_traceback_frames(e\u001b[38;5;241m.\u001b[39m__traceback__)\n\u001b[0;32m     68\u001b[0m     \u001b[38;5;66;03m# To get the full stack trace, call:\u001b[39;00m\n\u001b[0;32m     69\u001b[0m     \u001b[38;5;66;03m# `tf.debugging.disable_traceback_filtering()`\u001b[39;00m\n\u001b[1;32m---> 70\u001b[0m     \u001b[38;5;28;01mraise\u001b[39;00m e\u001b[38;5;241m.\u001b[39mwith_traceback(filtered_tb) \u001b[38;5;28;01mfrom\u001b[39;00m \u001b[38;5;28;01mNone\u001b[39;00m\n\u001b[0;32m     71\u001b[0m \u001b[38;5;28;01mfinally\u001b[39;00m:\n\u001b[0;32m     72\u001b[0m     \u001b[38;5;28;01mdel\u001b[39;00m filtered_tb\n",
      "File \u001b[1;32mC:\\ProgramData\\miniconda3\\Lib\\site-packages\\keras\\src\\engine\\data_adapter.py:1950\u001b[0m, in \u001b[0;36m_check_data_cardinality\u001b[1;34m(data)\u001b[0m\n\u001b[0;32m   1943\u001b[0m     msg \u001b[38;5;241m+\u001b[39m\u001b[38;5;241m=\u001b[39m \u001b[38;5;124m\"\u001b[39m\u001b[38;5;124m  \u001b[39m\u001b[38;5;132;01m{}\u001b[39;00m\u001b[38;5;124m sizes: \u001b[39m\u001b[38;5;132;01m{}\u001b[39;00m\u001b[38;5;130;01m\\n\u001b[39;00m\u001b[38;5;124m\"\u001b[39m\u001b[38;5;241m.\u001b[39mformat(\n\u001b[0;32m   1944\u001b[0m         label,\n\u001b[0;32m   1945\u001b[0m         \u001b[38;5;124m\"\u001b[39m\u001b[38;5;124m, \u001b[39m\u001b[38;5;124m\"\u001b[39m\u001b[38;5;241m.\u001b[39mjoin(\n\u001b[0;32m   1946\u001b[0m             \u001b[38;5;28mstr\u001b[39m(i\u001b[38;5;241m.\u001b[39mshape[\u001b[38;5;241m0\u001b[39m]) \u001b[38;5;28;01mfor\u001b[39;00m i \u001b[38;5;129;01min\u001b[39;00m tf\u001b[38;5;241m.\u001b[39mnest\u001b[38;5;241m.\u001b[39mflatten(single_data)\n\u001b[0;32m   1947\u001b[0m         ),\n\u001b[0;32m   1948\u001b[0m     )\n\u001b[0;32m   1949\u001b[0m msg \u001b[38;5;241m+\u001b[39m\u001b[38;5;241m=\u001b[39m \u001b[38;5;124m\"\u001b[39m\u001b[38;5;124mMake sure all arrays contain the same number of samples.\u001b[39m\u001b[38;5;124m\"\u001b[39m\n\u001b[1;32m-> 1950\u001b[0m \u001b[38;5;28;01mraise\u001b[39;00m \u001b[38;5;167;01mValueError\u001b[39;00m(msg)\n",
      "\u001b[1;31mValueError\u001b[0m: Data cardinality is ambiguous:\n  x sizes: 2600\n  y sizes: 1\nMake sure all arrays contain the same number of samples."
     ]
    }
   ],
   "source": [
    "Prediction()"
   ]
  },
  {
   "cell_type": "code",
   "execution_count": null,
   "id": "f189589e-7b64-460b-be89-20d8a433beac",
   "metadata": {},
   "outputs": [],
   "source": []
  }
 ],
 "metadata": {
  "kernelspec": {
   "display_name": "Python 3 (ipykernel)",
   "language": "python",
   "name": "python3"
  },
  "language_info": {
   "codemirror_mode": {
    "name": "ipython",
    "version": 3
   },
   "file_extension": ".py",
   "mimetype": "text/x-python",
   "name": "python",
   "nbconvert_exporter": "python",
   "pygments_lexer": "ipython3",
   "version": "3.11.5"
  }
 },
 "nbformat": 4,
 "nbformat_minor": 5
}
